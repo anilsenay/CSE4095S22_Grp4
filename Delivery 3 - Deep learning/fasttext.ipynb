{
 "cells": [
  {
   "cell_type": "code",
   "execution_count": 1,
   "id": "c13efe9c-b323-4d9a-aff4-074024f9fb4e",
   "metadata": {
    "tags": []
   },
   "outputs": [
    {
     "name": "stdout",
     "output_type": "stream",
     "text": [
      "['5607_sayılı_kanuna_muhalefet' 'undefined'\n",
      " 'uyuşturucu_madde_ticareti_yapma' 'other' 'görevi_kötüye_kullanma'\n",
      " '6136_sayılı_yasaya_aykırılık' 'silahlı_terör_örgütüne_üye_olma'\n",
      " 'kullanmak_için_uyuşturucu_madde_bulundurma'\n",
      " 'kişiyi_hürriyetinden_yoksun_kılma' 'resmi_belgede_sahtecilik']\n"
     ]
    }
   ],
   "source": [
    "import pandas as pd # data processing, CSV file I/O (e.g. pd.read_csv)\n",
    "from sklearn.feature_extraction.text import TfidfVectorizer\n",
    "from sklearn.metrics import classification_report, confusion_matrix\n",
    "data = pd.read_csv('train_set_100_2.csv', encoding='utf-8')\n",
    "data['sucs'] = data['sucs'].values.astype(str)\n",
    "data['ictihats'] = data['ictihats'].values.astype(str)\n",
    "for i,suc in enumerate(data['sucs']):\n",
    "    data['sucs'][i] = suc.replace(\" \", \"_\")\n",
    "print(data.sucs.unique())\n",
    "data['labels'] = pd.factorize(data.sucs)[0]"
   ]
  },
  {
   "cell_type": "code",
   "execution_count": 2,
   "id": "cfacdd09-7cb5-40e1-845b-1d751f67bc2f",
   "metadata": {
    "tags": []
   },
   "outputs": [],
   "source": [
    "#data.head()\n",
    "#data.iloc[:, 1] = data.iloc[:, 1].apply(lambda x: '__label__' + x)"
   ]
  },
  {
   "cell_type": "code",
   "execution_count": 3,
   "id": "328d07e2-1e4f-4e68-9d31-56ced24a1bcf",
   "metadata": {},
   "outputs": [],
   "source": [
    "#data split for train and test\n",
    "from sklearn.model_selection import train_test_split\n",
    "\n",
    "train, test = train_test_split(data, test_size=0.2, random_state=42)\n",
    "train.reset_index(drop=True, inplace=True)\n",
    "test.reset_index(drop=True, inplace=True)"
   ]
  },
  {
   "cell_type": "code",
   "execution_count": 4,
   "id": "4975d3db-1007-4997-af19-877b985953ff",
   "metadata": {
    "tags": []
   },
   "outputs": [
    {
     "data": {
      "text/html": [
       "<div>\n",
       "<style scoped>\n",
       "    .dataframe tbody tr th:only-of-type {\n",
       "        vertical-align: middle;\n",
       "    }\n",
       "\n",
       "    .dataframe tbody tr th {\n",
       "        vertical-align: top;\n",
       "    }\n",
       "\n",
       "    .dataframe thead th {\n",
       "        text-align: right;\n",
       "    }\n",
       "</style>\n",
       "<table border=\"1\" class=\"dataframe\">\n",
       "  <thead>\n",
       "    <tr style=\"text-align: right;\">\n",
       "      <th></th>\n",
       "      <th>ictihats</th>\n",
       "      <th>sucs</th>\n",
       "      <th>labels</th>\n",
       "    </tr>\n",
       "  </thead>\n",
       "  <tbody>\n",
       "    <tr>\n",
       "      <th>0</th>\n",
       "      <td>hük mahkumiyet yerel mahkemeç bozma verile hük...</td>\n",
       "      <td>other</td>\n",
       "      <td>3</td>\n",
       "    </tr>\n",
       "    <tr>\n",
       "      <th>1</th>\n",
       "      <td>taraf muhakemes bölge adli mahkemes hukuk dair...</td>\n",
       "      <td>undefined</td>\n",
       "      <td>1</td>\n",
       "    </tr>\n",
       "    <tr>\n",
       "      <th>2</th>\n",
       "      <td>dav tapu şerhi terk istem ilişk 2797 kanun 672...</td>\n",
       "      <td>undefined</td>\n",
       "      <td>1</td>\n",
       "    </tr>\n",
       "    <tr>\n",
       "      <th>3</th>\n",
       "      <td>taraf görüle dava sonuç mahkemeç verile kabul ...</td>\n",
       "      <td>undefined</td>\n",
       "      <td>1</td>\n",
       "    </tr>\n",
       "    <tr>\n",
       "      <th>4</th>\n",
       "      <td>hük mahkumiyet yerel mahkemeç verile hüküm tem...</td>\n",
       "      <td>other</td>\n",
       "      <td>3</td>\n",
       "    </tr>\n",
       "  </tbody>\n",
       "</table>\n",
       "</div>"
      ],
      "text/plain": [
       "                                            ictihats       sucs  labels\n",
       "0  hük mahkumiyet yerel mahkemeç bozma verile hük...      other       3\n",
       "1  taraf muhakemes bölge adli mahkemes hukuk dair...  undefined       1\n",
       "2  dav tapu şerhi terk istem ilişk 2797 kanun 672...  undefined       1\n",
       "3  taraf görüle dava sonuç mahkemeç verile kabul ...  undefined       1\n",
       "4  hük mahkumiyet yerel mahkemeç verile hüküm tem...      other       3"
      ]
     },
     "execution_count": 4,
     "metadata": {},
     "output_type": "execute_result"
    }
   ],
   "source": [
    "train.head()"
   ]
  },
  {
   "cell_type": "code",
   "execution_count": 5,
   "id": "c4bd1462-2e68-48ef-a2c1-3faf2aa906ba",
   "metadata": {
    "tags": []
   },
   "outputs": [
    {
     "data": {
      "text/html": [
       "<div>\n",
       "<style scoped>\n",
       "    .dataframe tbody tr th:only-of-type {\n",
       "        vertical-align: middle;\n",
       "    }\n",
       "\n",
       "    .dataframe tbody tr th {\n",
       "        vertical-align: top;\n",
       "    }\n",
       "\n",
       "    .dataframe thead th {\n",
       "        text-align: right;\n",
       "    }\n",
       "</style>\n",
       "<table border=\"1\" class=\"dataframe\">\n",
       "  <thead>\n",
       "    <tr style=\"text-align: right;\">\n",
       "      <th></th>\n",
       "      <th>ictihats</th>\n",
       "      <th>sucs</th>\n",
       "      <th>labels</th>\n",
       "    </tr>\n",
       "  </thead>\n",
       "  <tbody>\n",
       "    <tr>\n",
       "      <th>0</th>\n",
       "      <td>4857 41 46 57 taraf görüle dav sonuç verile te...</td>\n",
       "      <td>undefined</td>\n",
       "      <td>1</td>\n",
       "    </tr>\n",
       "    <tr>\n",
       "      <th>1</th>\n",
       "      <td>derecemahkemes mahkemes dav 3201 yas geçerli o...</td>\n",
       "      <td>undefined</td>\n",
       "      <td>1</td>\n",
       "    </tr>\n",
       "    <tr>\n",
       "      <th>2</th>\n",
       "      <td>hük mahkumiyet mahalli mahkemeç verile hük tem...</td>\n",
       "      <td>other</td>\n",
       "      <td>3</td>\n",
       "    </tr>\n",
       "    <tr>\n",
       "      <th>3</th>\n",
       "      <td>hük beraat yerel mahkemeç verile hük temyiz ed...</td>\n",
       "      <td>other</td>\n",
       "      <td>3</td>\n",
       "    </tr>\n",
       "    <tr>\n",
       "      <th>4</th>\n",
       "      <td>hük mahkumiyet dosya incelenerek düşünül büyük...</td>\n",
       "      <td>other</td>\n",
       "      <td>3</td>\n",
       "    </tr>\n",
       "  </tbody>\n",
       "</table>\n",
       "</div>"
      ],
      "text/plain": [
       "                                            ictihats       sucs  labels\n",
       "0  4857 41 46 57 taraf görüle dav sonuç verile te...  undefined       1\n",
       "1  derecemahkemes mahkemes dav 3201 yas geçerli o...  undefined       1\n",
       "2  hük mahkumiyet mahalli mahkemeç verile hük tem...      other       3\n",
       "3  hük beraat yerel mahkemeç verile hük temyiz ed...      other       3\n",
       "4  hük mahkumiyet dosya incelenerek düşünül büyük...      other       3"
      ]
     },
     "execution_count": 5,
     "metadata": {},
     "output_type": "execute_result"
    }
   ],
   "source": [
    "test.head()"
   ]
  },
  {
   "cell_type": "code",
   "execution_count": 6,
   "id": "8b9aa45c-b1e7-4cd6-9347-853eca8c3678",
   "metadata": {
    "tags": []
   },
   "outputs": [
    {
     "name": "stderr",
     "output_type": "stream",
     "text": [
      "C:\\Users\\onkol\\AppData\\Local\\Temp/ipykernel_12484/1772977377.py:2: SettingWithCopyWarning: \n",
      "A value is trying to be set on a copy of a slice from a DataFrame.\n",
      "Try using .loc[row_indexer,col_indexer] = value instead\n",
      "\n",
      "See the caveats in the documentation: https://pandas.pydata.org/pandas-docs/stable/user_guide/indexing.html#returning-a-view-versus-a-copy\n",
      "  train[\"label_format\"]=0\n",
      "C:\\Users\\onkol\\AppData\\Local\\Temp/ipykernel_12484/1772977377.py:3: SettingWithCopyWarning: \n",
      "A value is trying to be set on a copy of a slice from a DataFrame.\n",
      "Try using .loc[row_indexer,col_indexer] = value instead\n",
      "\n",
      "See the caveats in the documentation: https://pandas.pydata.org/pandas-docs/stable/user_guide/indexing.html#returning-a-view-versus-a-copy\n",
      "  train[\"label_format_without_ictihats\"]=0\n",
      "C:\\Users\\onkol\\AppData\\Local\\Temp/ipykernel_12484/1772977377.py:5: SettingWithCopyWarning: \n",
      "A value is trying to be set on a copy of a slice from a DataFrame\n",
      "\n",
      "See the caveats in the documentation: https://pandas.pydata.org/pandas-docs/stable/user_guide/indexing.html#returning-a-view-versus-a-copy\n",
      "  train.label_format[i]=\"__label__\"+str(train.sucs[i])+\" \"+str(train.ictihats[i])\n",
      "C:\\Users\\onkol\\anaconda3\\lib\\site-packages\\pandas\\core\\indexing.py:1732: SettingWithCopyWarning: \n",
      "A value is trying to be set on a copy of a slice from a DataFrame\n",
      "\n",
      "See the caveats in the documentation: https://pandas.pydata.org/pandas-docs/stable/user_guide/indexing.html#returning-a-view-versus-a-copy\n",
      "  self._setitem_single_block(indexer, value, name)\n",
      "C:\\Users\\onkol\\AppData\\Local\\Temp/ipykernel_12484/1772977377.py:6: SettingWithCopyWarning: \n",
      "A value is trying to be set on a copy of a slice from a DataFrame\n",
      "\n",
      "See the caveats in the documentation: https://pandas.pydata.org/pandas-docs/stable/user_guide/indexing.html#returning-a-view-versus-a-copy\n",
      "  train.label_format_without_ictihats[i]=\"__label__\"+str(train.sucs[i])\n",
      "C:\\Users\\onkol\\anaconda3\\lib\\site-packages\\pandas\\core\\series.py:1056: SettingWithCopyWarning: \n",
      "A value is trying to be set on a copy of a slice from a DataFrame\n",
      "\n",
      "See the caveats in the documentation: https://pandas.pydata.org/pandas-docs/stable/user_guide/indexing.html#returning-a-view-versus-a-copy\n",
      "  cacher_needs_updating = self._check_is_chained_assignment_possible()\n"
     ]
    }
   ],
   "source": [
    "#Data prepare for fasttext format for train\n",
    "train[\"label_format\"]=0\n",
    "train[\"label_format_without_ictihats\"]=0\n",
    "for i in range(len(train)):\n",
    "    train.label_format[i]=\"__label__\"+str(train.sucs[i])+\" \"+str(train.ictihats[i])\n",
    "    train.label_format_without_ictihats[i]=\"__label__\"+str(train.sucs[i])"
   ]
  },
  {
   "cell_type": "code",
   "execution_count": 7,
   "id": "066cc0ed-4142-42c2-8009-cabbbd339dda",
   "metadata": {
    "tags": []
   },
   "outputs": [
    {
     "name": "stderr",
     "output_type": "stream",
     "text": [
      "C:\\Users\\onkol\\AppData\\Local\\Temp/ipykernel_12484/3952881165.py:2: SettingWithCopyWarning: \n",
      "A value is trying to be set on a copy of a slice from a DataFrame.\n",
      "Try using .loc[row_indexer,col_indexer] = value instead\n",
      "\n",
      "See the caveats in the documentation: https://pandas.pydata.org/pandas-docs/stable/user_guide/indexing.html#returning-a-view-versus-a-copy\n",
      "  test[\"label_format\"]=0\n",
      "C:\\Users\\onkol\\AppData\\Local\\Temp/ipykernel_12484/3952881165.py:3: SettingWithCopyWarning: \n",
      "A value is trying to be set on a copy of a slice from a DataFrame.\n",
      "Try using .loc[row_indexer,col_indexer] = value instead\n",
      "\n",
      "See the caveats in the documentation: https://pandas.pydata.org/pandas-docs/stable/user_guide/indexing.html#returning-a-view-versus-a-copy\n",
      "  test[\"label_format_without_ictihats\"]=0\n",
      "C:\\Users\\onkol\\AppData\\Local\\Temp/ipykernel_12484/3952881165.py:5: SettingWithCopyWarning: \n",
      "A value is trying to be set on a copy of a slice from a DataFrame\n",
      "\n",
      "See the caveats in the documentation: https://pandas.pydata.org/pandas-docs/stable/user_guide/indexing.html#returning-a-view-versus-a-copy\n",
      "  test.label_format[i]=\"__label__\"+str(test.sucs[i])+\" \"+str(test.ictihats[i])\n",
      "C:\\Users\\onkol\\AppData\\Local\\Temp/ipykernel_12484/3952881165.py:6: SettingWithCopyWarning: \n",
      "A value is trying to be set on a copy of a slice from a DataFrame\n",
      "\n",
      "See the caveats in the documentation: https://pandas.pydata.org/pandas-docs/stable/user_guide/indexing.html#returning-a-view-versus-a-copy\n",
      "  test.label_format_without_ictihats[i]=\"__label__\"+str(test.sucs[i])\n"
     ]
    }
   ],
   "source": [
    "#Data prepare for fasttext format for test\n",
    "test[\"label_format\"]=0\n",
    "test[\"label_format_without_ictihats\"]=0\n",
    "for i in range(len(test)):\n",
    "    test.label_format[i]=\"__label__\"+str(test.sucs[i])+\" \"+str(test.ictihats[i])\n",
    "    test.label_format_without_ictihats[i]=\"__label__\"+str(test.sucs[i])"
   ]
  },
  {
   "cell_type": "code",
   "execution_count": 8,
   "id": "61e283ee-239c-4833-8587-5a247a76a4c4",
   "metadata": {},
   "outputs": [],
   "source": [
    "train.label_format.to_csv('fasttext_train.txt',index=None,header=None)\n",
    "test.label_format.to_csv('fasttext_test.txt',index=None,header=None)\n"
   ]
  },
  {
   "cell_type": "code",
   "execution_count": 9,
   "id": "4b60e6f2-65fd-43e7-b5fc-773277e374da",
   "metadata": {},
   "outputs": [],
   "source": [
    "import fasttext\n",
    "#train classifier model\n",
    "model = fasttext.train_supervised('fasttext_train.txt',epoch=100,lr=0.05,label_prefix='__label__',dim=300)\n",
    "# model.save_model('model.bin')\n"
   ]
  },
  {
   "cell_type": "code",
   "execution_count": 10,
   "id": "4808153b-696a-43b1-a658-585ed1b564da",
   "metadata": {},
   "outputs": [
    {
     "data": {
      "text/plain": [
       "(5571, 0.9545862502243763, 0.9545862502243763)"
      ]
     },
     "execution_count": 10,
     "metadata": {},
     "output_type": "execute_result"
    }
   ],
   "source": [
    "model.test('fasttext_test.txt')\n",
    "# print(model_test)\n",
    "# precision = model_test[1]\n",
    "# recall = model_test[2]\n",
    "# f1_score = (2*(precision*recall))/(precision + recall)\n",
    "# result = model.test('fasttext_train.txt')\n",
    "# validation = model.test('fasttext_test.txt')\n",
    "# text_line =  \"accuracy:\" + str(result[1])  + \"\\nvalidation:\" + str(validation[1]) + '\\n' \n",
    "# print ('Precision:', precision)\n",
    "# print ('F1 score:', f1_score)\n",
    "# print ('Recall:', recall)\n",
    "# print(text_line)\n",
    "\n"
   ]
  },
  {
   "cell_type": "code",
   "execution_count": 11,
   "id": "b43fbbc0-efcc-4f2c-8764-18ee5846c874",
   "metadata": {},
   "outputs": [
    {
     "name": "stdout",
     "output_type": "stream",
     "text": [
      "                                                     precision    recall  f1-score   support\n",
      "\n",
      "              __label__5607_sayılı_kanuna_muhalefet       0.70      0.67      0.68        94\n",
      "              __label__6136_sayılı_yasaya_aykırılık       0.47      0.55      0.51        31\n",
      "                    __label__görevi_kötüye_kullanma       0.53      0.45      0.49        20\n",
      "         __label__kişiyi_hürriyetinden_yoksun_kılma       0.38      0.38      0.38        29\n",
      "__label__kullanmak_için_uyuşturucu_madde_bulundurma       0.95      0.89      0.92        62\n",
      "                                     __label__other       0.95      0.96      0.95      2576\n",
      "                  __label__resmi_belgede_sahtecilik       0.76      0.61      0.68        36\n",
      "           __label__silahlı_terör_örgütüne_üye_olma       0.98      0.96      0.97        49\n",
      "                                 __label__undefined       0.99      0.99      0.99      2519\n",
      "           __label__uyuşturucu_madde_ticareti_yapma       0.86      0.92      0.89       155\n",
      "\n",
      "                                           accuracy                           0.95      5571\n",
      "                                          macro avg       0.76      0.74      0.75      5571\n",
      "                                       weighted avg       0.95      0.95      0.95      5571\n",
      "\n",
      "[[  63    0    0    0    0   30    0    0    1    0]\n",
      " [   0   17    0    2    0   12    0    0    0    0]\n",
      " [   0    0    9    0    0   11    0    0    0    0]\n",
      " [   0    4    0   11    0   14    0    0    0    0]\n",
      " [   0    0    0    0   55    4    0    0    0    3]\n",
      " [  27   15    7   16    2 2467    7    1   15   19]\n",
      " [   0    0    0    0    0   11   22    0    3    0]\n",
      " [   0    0    0    0    0    2    0   47    0    0]\n",
      " [   0    0    1    0    0   33    0    0 2484    1]\n",
      " [   0    0    0    0    1   10    0    0    1  143]]\n"
     ]
    }
   ],
   "source": [
    "\n",
    "y_pred = test.iloc[:, 0].apply(lambda x: model.predict(x)[0][0])\n",
    "#print(y_pred.unique())\n",
    "y_test = test.label_format_without_ictihats\n",
    "#print(y_test.unique())\n",
    "\n",
    "print(classification_report(y_test, y_pred))\n",
    "print(confusion_matrix(y_test, y_pred))"
   ]
  },
  {
   "cell_type": "code",
   "execution_count": 12,
   "id": "cd4b8d35-b6dc-456e-a611-506e1b6a5e7c",
   "metadata": {},
   "outputs": [
    {
     "data": {
      "text/plain": [
       "(('__label__undefined',), array([1.00001001]))"
      ]
     },
     "execution_count": 12,
     "metadata": {},
     "output_type": "execute_result"
    }
   ],
   "source": [
    "model.predict('bicaklamak')\n"
   ]
  }
 ],
 "metadata": {
  "kernelspec": {
   "display_name": "Python 3 (ipykernel)",
   "language": "python",
   "name": "python3"
  },
  "language_info": {
   "codemirror_mode": {
    "name": "ipython",
    "version": 3
   },
   "file_extension": ".py",
   "mimetype": "text/x-python",
   "name": "python",
   "nbconvert_exporter": "python",
   "pygments_lexer": "ipython3",
   "version": "3.9.7"
  }
 },
 "nbformat": 4,
 "nbformat_minor": 5
}
