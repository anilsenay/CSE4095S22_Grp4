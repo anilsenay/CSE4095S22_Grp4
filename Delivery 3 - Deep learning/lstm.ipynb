{
 "cells": [
  {
   "cell_type": "code",
   "execution_count": 1,
   "id": "76f9e31f-db5a-47b9-9316-6b95662e6dab",
   "metadata": {},
   "outputs": [
    {
     "name": "stdout",
     "output_type": "stream",
     "text": [
      "(27851,)\n",
      "(27851,)\n",
      "27851\n",
      "(27851, 1, 1)\n"
     ]
    },
    {
     "ename": "ValueError",
     "evalue": "could not convert string to float: 'basit yarala suç 5237 türk ceza kanun 862 863e 29 62 522 madde 224000 türk par 5271 ceza muhakemes 2315 maddes hükm anadol 40 asli ceza mahkeme 11022020 tarihli 2019750 esas 202094 karar ahmet demir cumhuriyet reddi mercii anadol 12 ceza mahkeme 14072020 tarihli 20201000 değişik iş adalet 13112020 tarihli 202014855 kan bozma istem bulunulduk iş dav cumhuriyet 15122020 tarihli 2020103892 tebliğnames daire gönderilmek incele mezkur ihbarname dosya mercii anadol 12 ceza mahkeme şekil yön incele sonuç reddi karar veril ceza genel kurul 22012013 tarihli 201210534 esas 201315 karar itiraz mercii olay yö incele yapabilecek yön nazar itiraz mercii ahmet'",
     "output_type": "error",
     "traceback": [
      "\u001b[1;31m---------------------------------------------------------------------------\u001b[0m",
      "\u001b[1;31mValueError\u001b[0m                                Traceback (most recent call last)",
      "\u001b[1;32m~\\AppData\\Local\\Temp/ipykernel_14884/3823038443.py\u001b[0m in \u001b[0;36m<module>\u001b[1;34m\u001b[0m\n\u001b[0;32m     42\u001b[0m     \u001b[0mX\u001b[0m \u001b[1;33m=\u001b[0m \u001b[0mX\u001b[0m\u001b[1;33m.\u001b[0m\u001b[0mreshape\u001b[0m\u001b[1;33m(\u001b[0m\u001b[1;36m27851\u001b[0m\u001b[1;33m,\u001b[0m\u001b[1;36m1\u001b[0m\u001b[1;33m,\u001b[0m\u001b[1;36m1\u001b[0m\u001b[1;33m)\u001b[0m\u001b[1;33m\u001b[0m\u001b[1;33m\u001b[0m\u001b[0m\n\u001b[0;32m     43\u001b[0m     \u001b[0mprint\u001b[0m\u001b[1;33m(\u001b[0m\u001b[0mX\u001b[0m\u001b[1;33m.\u001b[0m\u001b[0mshape\u001b[0m\u001b[1;33m)\u001b[0m\u001b[1;33m\u001b[0m\u001b[1;33m\u001b[0m\u001b[0m\n\u001b[1;32m---> 44\u001b[1;33m     \u001b[0mX_train\u001b[0m \u001b[1;33m=\u001b[0m \u001b[0mX\u001b[0m\u001b[1;33m[\u001b[0m\u001b[1;33m:\u001b[0m\u001b[0mint\u001b[0m\u001b[1;33m(\u001b[0m\u001b[0mlen\u001b[0m\u001b[1;33m(\u001b[0m\u001b[0mdata\u001b[0m\u001b[1;33m)\u001b[0m\u001b[1;33m*\u001b[0m\u001b[1;36m0.8\u001b[0m\u001b[1;33m)\u001b[0m\u001b[1;33m]\u001b[0m\u001b[1;33m.\u001b[0m\u001b[0mastype\u001b[0m\u001b[1;33m(\u001b[0m\u001b[1;34m'float32'\u001b[0m\u001b[1;33m)\u001b[0m\u001b[1;33m\u001b[0m\u001b[1;33m\u001b[0m\u001b[0m\n\u001b[0m\u001b[0;32m     45\u001b[0m     \u001b[0mX_test\u001b[0m \u001b[1;33m=\u001b[0m \u001b[0mX\u001b[0m\u001b[1;33m[\u001b[0m\u001b[0mint\u001b[0m\u001b[1;33m(\u001b[0m\u001b[0mlen\u001b[0m\u001b[1;33m(\u001b[0m\u001b[0mdata\u001b[0m\u001b[1;33m)\u001b[0m\u001b[1;33m*\u001b[0m\u001b[1;36m0.8\u001b[0m\u001b[1;33m)\u001b[0m\u001b[1;33m:\u001b[0m\u001b[1;33m]\u001b[0m\u001b[1;33m\u001b[0m\u001b[1;33m\u001b[0m\u001b[0m\n\u001b[0;32m     46\u001b[0m     \u001b[0my_train\u001b[0m \u001b[1;33m=\u001b[0m \u001b[0mdata\u001b[0m\u001b[1;33m[\u001b[0m\u001b[1;34m'sucs'\u001b[0m\u001b[1;33m]\u001b[0m\u001b[1;33m[\u001b[0m\u001b[1;33m:\u001b[0m\u001b[0mint\u001b[0m\u001b[1;33m(\u001b[0m\u001b[0mlen\u001b[0m\u001b[1;33m(\u001b[0m\u001b[0mdata\u001b[0m\u001b[1;33m)\u001b[0m\u001b[1;33m*\u001b[0m\u001b[1;36m0.8\u001b[0m\u001b[1;33m)\u001b[0m\u001b[1;33m]\u001b[0m\u001b[1;33m.\u001b[0m\u001b[0mvalues\u001b[0m\u001b[1;33m.\u001b[0m\u001b[0mastype\u001b[0m\u001b[1;33m(\u001b[0m\u001b[0mfloat32\u001b[0m\u001b[1;33m)\u001b[0m\u001b[1;33m\u001b[0m\u001b[1;33m\u001b[0m\u001b[0m\n",
      "\u001b[1;31mValueError\u001b[0m: could not convert string to float: 'basit yarala suç 5237 türk ceza kanun 862 863e 29 62 522 madde 224000 türk par 5271 ceza muhakemes 2315 maddes hükm anadol 40 asli ceza mahkeme 11022020 tarihli 2019750 esas 202094 karar ahmet demir cumhuriyet reddi mercii anadol 12 ceza mahkeme 14072020 tarihli 20201000 değişik iş adalet 13112020 tarihli 202014855 kan bozma istem bulunulduk iş dav cumhuriyet 15122020 tarihli 2020103892 tebliğnames daire gönderilmek incele mezkur ihbarname dosya mercii anadol 12 ceza mahkeme şekil yön incele sonuç reddi karar veril ceza genel kurul 22012013 tarihli 201210534 esas 201315 karar itiraz mercii olay yö incele yapabilecek yön nazar itiraz mercii ahmet'"
     ]
    }
   ],
   "source": [
    "# This is a sample Python script.\n",
    "\n",
    "# Press ⌃R to execute it or replace it with your code.\n",
    "# Press Double ⇧ to search everywhere for classes, files, tool windows, actions, and settings.\n",
    "\n",
    "import tensorflow as tf\n",
    "from tensorflow.keras.callbacks import EarlyStopping\n",
    "from tensorflow.keras.preprocessing.sequence import pad_sequences\n",
    "from tensorflow.keras.layers import LSTM, Dense, Dropout, Activation\n",
    "from tensorflow.keras.models import Sequential\n",
    "import pandas as pd\n",
    "import numpy as np\n",
    "\n",
    "\n",
    "\n",
    "def create_model(X):\n",
    "    model = Sequential()\n",
    "    model.add(LSTM(128, input_shape=(X.shape[1], X.shape[2]), return_sequences=True))\n",
    "    model.add(Dropout(0.2))\n",
    "    model.add(LSTM(128,input_shape=(X.shape[1],X.shape[2]),return_sequences=True))\n",
    "    model.add(LSTM(128,input_shape=(X.shape[1],X.shape[2])))\n",
    "    model.add(Dropout(0.2))\n",
    "    model.add(Dropout(0.1))\n",
    "    model.add(Activation('softmax'))\n",
    "    model.add(Dense(1,activation='sigmoid'))\n",
    "    model.compile(optimizer='adam',loss='binary_crossentropy',metrics=['accuracy'])\n",
    "    return model\n",
    "\n",
    "\n",
    "# Press the green button in the gutter to run the script.\n",
    "if __name__ == '__main__':\n",
    "\n",
    "    from sklearn.model_selection import train_test_split\n",
    "    data = pd.read_csv(\"train_set_100.csv\")\n",
    "\n",
    "    X  = np.array(data.ictihats)\n",
    "    y = np.array(data.sucs)\n",
    "    print(X.shape)\n",
    "    print(y.shape)\n",
    "    print(len(X))\n",
    "\n",
    "    X = X.reshape(27851,1,1)\n",
    "    print(X.shape)\n",
    "    X_train = X[:int(len(data)*0.8)].astype('float32')\n",
    "    X_test = X[int(len(data)*0.8):]\n",
    "    y_train = data['sucs'][:int(len(data)*0.8)].values\n",
    "    y_test = data['sucs'][int(len(data)*0.8):].values\n",
    "    model = create_model(X)\n",
    "    print(model.summary())\n",
    "    early_stop = EarlyStopping(monitor='val_loss', mode='min', verbose=1, patience=5)\n",
    "    hist = model.fit(X_train, y_train, epochs=20, batch_size=64, shuffle=True, validation_split=0.1, callbacks=[early_stop])\n",
    "    y_pred = (model.predict(X_test) > 0.5).astype(\"int32\")\n",
    "    from sklearn.metrics import classification_report, confusion_matrix\n",
    "    print(confusion_matrix(y_test,y_pred))\n",
    "    print(classification_report(y_test,y_pred))"
   ]
  },
  {
   "cell_type": "code",
   "execution_count": null,
   "id": "3c20034b-87f2-452d-a32f-4f55fda647da",
   "metadata": {},
   "outputs": [],
   "source": []
  }
 ],
 "metadata": {
  "kernelspec": {
   "display_name": "Python 3 (ipykernel)",
   "language": "python",
   "name": "python3"
  },
  "language_info": {
   "codemirror_mode": {
    "name": "ipython",
    "version": 3
   },
   "file_extension": ".py",
   "mimetype": "text/x-python",
   "name": "python",
   "nbconvert_exporter": "python",
   "pygments_lexer": "ipython3",
   "version": "3.9.7"
  }
 },
 "nbformat": 4,
 "nbformat_minor": 5
}
