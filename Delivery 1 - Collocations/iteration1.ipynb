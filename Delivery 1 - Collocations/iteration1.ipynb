{
 "cells": [
  {
   "cell_type": "markdown",
   "id": "45d3c077-d38c-4646-ad4a-4c330c94942e",
   "metadata": {},
   "source": [
    "# Imports"
   ]
  },
  {
   "cell_type": "code",
   "execution_count": 1,
   "id": "1b6c41d2-741e-4346-81b1-0beac9a05d3c",
   "metadata": {},
   "outputs": [],
   "source": [
    "import os\n",
    "import sys\n",
    "import glob\n",
    "import json\n",
    "import nltk, re, string, collections\n",
    "from nltk.util import ngrams\n",
    "from collections import Counter\n",
    "import pandas as pd\n",
    "from nltk.tokenize import word_tokenize \n",
    "\n",
    "import grpc\n",
    "\n",
    "import zemberek_grpc.language_id_pb2 as z_langid\n",
    "import zemberek_grpc.language_id_pb2_grpc as z_langid_g\n",
    "import zemberek_grpc.normalization_pb2 as z_normalization\n",
    "import zemberek_grpc.normalization_pb2_grpc as z_normalization_g\n",
    "import zemberek_grpc.preprocess_pb2 as z_preprocess\n",
    "import zemberek_grpc.preprocess_pb2_grpc as z_preprocess_g\n",
    "import zemberek_grpc.morphology_pb2 as z_morphology\n",
    "import zemberek_grpc.morphology_pb2_grpc as z_morphology_g"
   ]
  },
  {
   "cell_type": "markdown",
   "id": "b7f15d46-c671-4b7d-afc4-71e471c3488b",
   "metadata": {},
   "source": [
    "# readJson function"
   ]
  },
  {
   "cell_type": "code",
   "execution_count": 2,
   "id": "dbbf107f-90da-4e0a-ba4a-08a760f90a9c",
   "metadata": {},
   "outputs": [],
   "source": [
    "def readJson(fileName):\n",
    "    f = open(file, \"r\", encoding='utf-8')\n",
    "    jsonData = json.load(f)\n",
    "    words = \"\"\n",
    "    for _, value in jsonData.items():\n",
    "        if(len(value) > len(words)):\n",
    "            words = value\n",
    "    return words"
   ]
  },
  {
   "cell_type": "markdown",
   "id": "109fdb69-c4c6-437d-9975-535e029c9e09",
   "metadata": {},
   "source": [
    "# Find ngrams with stopwords"
   ]
  },
  {
   "cell_type": "code",
   "execution_count": 3,
   "id": "8d6e9e1e-2d04-409b-8c89-96a312e34917",
   "metadata": {},
   "outputs": [],
   "source": [
    "path = \"testDatasets/*.json\"\n",
    "files = glob.glob(path)\n",
    "\n",
    "words = \"\"\n",
    "\n",
    "for file in files:\n",
    "    jsonWords = readJson(file)\n",
    "    words = words + jsonWords\n",
    "    \n",
    "tokenized_words = [word.lower() for word in words.split() if len(word) > 1 and re.match(\"^[A-Z0-9a-zğüşöçİĞÜŞÖÇ]*$\", word)]\n",
    "\n",
    "ngram_list = [\n",
    "    {\"n\": 1, \"prefix\": \"unigram\"},\n",
    "    {\"n\": 2, \"prefix\": \"bigram\"},\n",
    "    {\"n\": 3, \"prefix\": \"trigram\"}\n",
    "]\n",
    "\n",
    "if not os.path.exists(\"outputs\"):\n",
    "    os.mkdir(\"outputs\")\n",
    "\n",
    "for ngram in ngram_list:\n",
    "    n = ngrams(tokenized_words, ngram['n'])\n",
    "    nFreq = collections.Counter(n)\n",
    "    df = pd.DataFrame(nFreq.most_common(None), columns = ['Words', 'Frequency'])\n",
    "    df = df.sort_values(by='Frequency', ascending=False)\n",
    "    p = './outputs/' + ngram['prefix'] + '-with-stopwords.csv'\n",
    "    df.to_csv(p, index = True, header=True)\n",
    "    "
   ]
  },
  {
   "cell_type": "markdown",
   "id": "55b69931-3969-4821-999f-bd334ba1aff7",
   "metadata": {},
   "source": [
    "# Read stopwords file"
   ]
  },
  {
   "cell_type": "code",
   "execution_count": 4,
   "id": "e3333e55-266f-4243-9c9b-b1799f4aba9a",
   "metadata": {},
   "outputs": [],
   "source": [
    "file = open(\"stopwords.txt\", \"r\", newline='', encoding='utf-8')\n",
    "result = file.read()\n",
    "stopwords = word_tokenize(result)"
   ]
  },
  {
   "cell_type": "markdown",
   "id": "706f9a59-2bca-47b5-95eb-25a316bdd44d",
   "metadata": {},
   "source": [
    "# Pre Processing"
   ]
  },
  {
   "cell_type": "code",
   "execution_count": 5,
   "id": "d1063296-f922-4315-b56a-5aeb90da863a",
   "metadata": {},
   "outputs": [],
   "source": [
    "channel = grpc.insecure_channel('localhost:6789')\n",
    "\n",
    "langid_stub = z_langid_g.LanguageIdServiceStub(channel)\n",
    "normalization_stub = z_normalization_g.NormalizationServiceStub(channel)\n",
    "preprocess_stub = z_preprocess_g.PreprocessingServiceStub(channel)\n",
    "morphology_stub = z_morphology_g.MorphologyServiceStub(channel)\n",
    "\n",
    "def analyze(i):\n",
    "    response = morphology_stub.AnalyzeSentence(z_morphology.SentenceAnalysisRequest(input=i))\n",
    "    return response;\n",
    "    \n",
    "def pre_processing(words):\n",
    "    lemmas_string = \"\"\n",
    "    analysis_result = analyze(words)\n",
    "    for a in analysis_result.results:\n",
    "        best = a.best\n",
    "        if(best.lemmas[-1] == \"UNK\"):\n",
    "            lemmas_string = lemmas_string + \" \" + a.token\n",
    "        else:\n",
    "            lemmas_string = lemmas_string + \" \" + best.lemmas[-1]\n",
    "        \n",
    "        \n",
    "    return lemmas_string\n",
    "    "
   ]
  },
  {
   "cell_type": "markdown",
   "id": "4e13681e-c136-45b6-95e0-ff593b6998f2",
   "metadata": {},
   "source": [
    "# Find ngrams without stopwords"
   ]
  },
  {
   "cell_type": "code",
   "execution_count": 6,
   "id": "04b85d00-0413-42f7-afa2-546f9e1d4caf",
   "metadata": {},
   "outputs": [],
   "source": [
    "path = \"testDatasets/*.json\"\n",
    "files = glob.glob(path)\n",
    "\n",
    "words = \"\"\n",
    "\n",
    "for file in files:\n",
    "    jsonWords = (readJson(file))\n",
    "    words = words + jsonWords\n",
    "    \n",
    "tokenized_words = [word.lower() for word in words.split() if word.lower() not in stopwords and len(word) > 1 and re.match(\"^[A-Z0-9a-zğüşöçİĞÜŞÖÇ]*$\", word)]\n",
    "\n",
    "ngram_list = [\n",
    "    {\"n\": 1, \"prefix\": \"unigram\"},\n",
    "    {\"n\": 2, \"prefix\": \"bigram\"},\n",
    "    {\"n\": 3, \"prefix\": \"trigram\"}\n",
    "]\n",
    "\n",
    "for ngram in ngram_list:\n",
    "    n = ngrams(tokenized_words, ngram['n'])\n",
    "    nFreq = collections.Counter(n)\n",
    "    df = pd.DataFrame(nFreq.most_common(None), columns = ['Words', 'Frequency'])\n",
    "    df = df.sort_values(by='Frequency', ascending=False)\n",
    "    p = './outputs/' + ngram['prefix'] + '-without-stopwords.csv'\n",
    "    df.to_csv(p, index = True, header=True)\n",
    "    "
   ]
  },
  {
   "cell_type": "markdown",
   "id": "a9393c74-a680-4bf6-ba49-2b8a92471a8c",
   "metadata": {},
   "source": [
    "# Print filtered tokens to file"
   ]
  },
  {
   "cell_type": "code",
   "execution_count": 7,
   "id": "17bf51f6-921f-4e7f-9703-b3c490ba5b4a",
   "metadata": {},
   "outputs": [],
   "source": [
    "file = open('./filtered-tokens.txt','w', encoding='utf-8')\n",
    "for word in tokenized_words:\n",
    "    file.write(\" \"+word.lower())\n",
    "\n",
    "file.close()"
   ]
  },
  {
   "cell_type": "markdown",
   "id": "2efc2684-4dec-46a4-bf7c-ead4386ab156",
   "metadata": {},
   "source": [
    "# Find collocations"
   ]
  },
  {
   "cell_type": "raw",
   "id": "2493eab6-aafb-41e9-942c-ff2e5b0ceec4",
   "metadata": {},
   "source": [
    "file = open(\"./filtered-tokens.txt\", \"r\", newline='', encoding='utf-8')\n",
    "result = file.read()\n",
    "\n",
    "tokenized_words = [word.lower() for word in result.split()]\n",
    "\n",
    "bigrams = nltk.collocations.BigramAssocMeasures()\n",
    "trigrams = nltk.collocations.TrigramAssocMeasures()\n",
    "\n",
    "bigram_finder = nltk.collocations.BigramCollocationFinder.from_words(tokenized_words)\n",
    "trigram_finder = nltk.collocations.TrigramCollocationFinder.from_words(tokenized_words)\n",
    "\n",
    "trigram_finder.apply_ngram_filter(lambda w1, w2, w3: len(list(filter(lambda x: x.isnumeric(), [w1,w2,w3]))) > 1)\n",
    "\n",
    "bigram_finder.apply_freq_filter(0)\n",
    "trigram_finder.apply_freq_filter(0)\n",
    "\n",
    "if not os.path.exists(\"ngrams\"):\n",
    "    os.mkdir(\"ngrams\")\n",
    "\n",
    "bigram_freq = bigram_finder.ngram_fd.items()\n",
    "bigram_table = pd.DataFrame(list(bigram_freq), columns=['Bigram','Frequency']).sort_values(by='Frequency', ascending=False)\n",
    "bigram_table.to_csv('./ngrams/bigrams.csv', index = False, header=True)\n",
    "\n",
    "trigram_freq = trigram_finder.ngram_fd.items()\n",
    "trigram_table = pd.DataFrame(list(trigram_freq), columns=['Trigram','Frequency']).sort_values(by='Frequency', ascending=False)\n",
    "trigram_table.to_csv('./ngrams/trigrams.csv', index = False, header=True)"
   ]
  },
  {
   "cell_type": "markdown",
   "id": "c7dfbece-ddf2-4a7f-9286-d37f6dc9914e",
   "metadata": {},
   "source": [
    "# Methods"
   ]
  },
  {
   "cell_type": "code",
   "execution_count": 9,
   "id": "6f292755-5d53-4857-a918-c3a72c8ab5ad",
   "metadata": {},
   "outputs": [],
   "source": [
    "if not os.path.exists(\"methods\"):\n",
    "    os.mkdir(\"methods\")\n",
    "    os.mkdir(\"methods/bigram/\")\n",
    "    os.mkdir(\"methods/trigram/\")"
   ]
  },
  {
   "cell_type": "markdown",
   "id": "16c6cd67-564d-4f23-9373-d24983223d82",
   "metadata": {},
   "source": [
    "## Raw Frequency"
   ]
  },
  {
   "cell_type": "code",
   "execution_count": 43,
   "id": "61e06a21-9cd8-4a27-b8f9-9e43a83b5e90",
   "metadata": {},
   "outputs": [
    {
     "name": "stdout",
     "output_type": "stream",
     "text": [
      "\n",
      "--------Bigram with Raw Frequency--------\n"
     ]
    },
    {
     "data": {
      "image/png": "[encoded data removed]",
      "text/plain": [
       "<Figure size 432x288 with 1 Axes>"
      ]
     },
     "metadata": {
      "needs_background": "light"
     },
     "output_type": "display_data"
    },
    {
     "data": {
      "image/png": "[encoded data removed]",
      "text/plain": [
       "<Figure size 432x288 with 1 Axes>"
      ]
     },
     "metadata": {
      "needs_background": "light"
     },
     "output_type": "display_data"
    }
   ],
   "source": [
    "import pandas as pd\n",
    "import matplotlib.pyplot as plt\n",
    "import numpy as np\n",
    "bigramRawFreqTable = pd.DataFrame(list(bigram_finder.score_ngrams(bigrams.raw_freq)), columns=['Bigram','raw_freq']).sort_values(by='raw_freq', ascending=False)\n",
    "bigramRawFreqTable.to_csv('./methods/bigram/bigramRawFreqTable.csv', index = False, header=True)\n",
    "print(\"\\n--------Bigram with Raw Frequency--------\")\n",
    "data = pd.read_csv(\"./methods/bigram/bigramRawFreqTable.csv\") \n",
    "words = []\n",
    "words = data.head(10)['Bigram']\n",
    "freqs = data.head(10)['raw_freq']\n",
    "colors = ['#1f77b4', '#ff7f0e', '#2ca02c', '#d62728', '#9467bd',\n",
    "          '#8c564b', '#e377c2', '#7f7f7f', '#bcbd22', '#17becf']\n",
    "reversed_words = words[::-1]\n",
    "reversed_freqs = freqs[::-1]\n",
    "plt.bar(words,freqs, color=colors)\n",
    "plt.title('-------- \\ Bigrams with Raw Frequency / --------')\n",
    "plt.xticks(rotation=90)\n",
    "plt.xlabel('Collocations')\n",
    "plt.ylabel('Score')\n",
    "plt.show() \n",
    "\n",
    "plt.barh(reversed_words, reversed_freqs, color=colors)\n",
    "plt.ylabel(\"collocations\")\n",
    "plt.xlabel(\"frequencies\")\n",
    "plt.title(\"Bigrams with Raw Frequency\")\n",
    "plt.show()\n",
    "\n",
    "trigramRawFreqTable = pd.DataFrame(list(trigram_finder.score_ngrams(trigrams.raw_freq)), columns=['Trigram','raw_freq']).sort_values(by='raw_freq', ascending=False)\n",
    "trigramRawFreqTable.to_csv('./methods/trigram/trigramRawFreqTable.csv', index = False, header=True)"
   ]
  },
  {
   "cell_type": "markdown",
   "id": "3ad065ee-c211-47d8-855b-1ddf1435975e",
   "metadata": {},
   "source": [
    "## PMI"
   ]
  },
  {
   "cell_type": "code",
   "execution_count": 11,
   "id": "b4af2bc4-801f-48c9-8690-a6642576225b",
   "metadata": {},
   "outputs": [],
   "source": [
    "bigramPMITable = pd.DataFrame(list(bigram_finder.score_ngrams(bigrams.pmi)), columns=['Bigram','PMI']).sort_values(by='PMI', ascending=False)\n",
    "bigramPMITable.to_csv('./methods/bigram/bigramPMITable.csv', index = False, header=True)\n",
    "\n",
    "trigramPMITable = pd.DataFrame(list(trigram_finder.score_ngrams(trigrams.pmi)), columns=['Trigram','PMI']).sort_values(by='PMI', ascending=False)\n",
    "trigramPMITable.to_csv('./methods/trigram/trigramPMITable.csv', index = False, header=True)"
   ]
  },
  {
   "cell_type": "markdown",
   "id": "8a447975-cc84-409c-9632-ed7a9bfbdd19",
   "metadata": {},
   "source": [
    "## T-test"
   ]
  },
  {
   "cell_type": "code",
   "execution_count": 12,
   "id": "46a44abf-b6b1-44f4-b21e-ad1bb796aa38",
   "metadata": {},
   "outputs": [],
   "source": [
    "bigramTtable = pd.DataFrame(list(bigram_finder.score_ngrams(bigrams.student_t)), columns=['Bigram','t']).sort_values(by='t', ascending=False)\n",
    "bigramTtable.to_csv('./methods/bigram/bigramTtable.csv', index = False, header=True)\n",
    "\n",
    "trigramTtable = pd.DataFrame(list(trigram_finder.score_ngrams(trigrams.student_t)), columns=['Trigram','t']).sort_values(by='t', ascending=False)\n",
    "trigramTtable.to_csv('./methods/trigram/trigramTtable.csv', index = False, header=True)"
   ]
  },
  {
   "cell_type": "markdown",
   "id": "2b443a0a-aa3b-4ced-aba6-d5995433fe64",
   "metadata": {},
   "source": [
    "## Chi-Square"
   ]
  },
  {
   "cell_type": "code",
   "execution_count": 13,
   "id": "5281da05-f39a-4838-beb9-3f47a872a0c9",
   "metadata": {},
   "outputs": [],
   "source": [
    "bigramChiTable = pd.DataFrame(list(bigram_finder.score_ngrams(bigrams.chi_sq)), columns=['Bigram','chi-sq']).sort_values(by='chi-sq', ascending=False)\n",
    "bigramChiTable.to_csv('./methods/bigram/bigramChiTable.csv', index = False, header=True)\n",
    "\n",
    "trigramChiTable = pd.DataFrame(list(trigram_finder.score_ngrams(trigrams.chi_sq)), columns=['Trigram','chi-sq']).sort_values(by='chi-sq', ascending=False)\n",
    "trigramChiTable.to_csv('./methods/trigram/trigramChiTable.csv', index = False, header=True)"
   ]
  },
  {
   "cell_type": "markdown",
   "id": "883ce2bd-3691-44ae-8515-f700ab953b5c",
   "metadata": {},
   "source": [
    "## Poisson Stirling"
   ]
  },
  {
   "cell_type": "code",
   "execution_count": 14,
   "id": "076b109e-b8af-413f-ac64-22b578797352",
   "metadata": {},
   "outputs": [],
   "source": [
    "bigramPoissonTable = pd.DataFrame(list(bigram_finder.score_ngrams(bigrams.poisson_stirling)), columns=['Bigram','poisson_stirling']).sort_values(by='poisson_stirling', ascending=False)\n",
    "bigramPoissonTable.to_csv('./methods/bigram/bigramPoissonTable.csv', index = False, header=True)\n",
    "\n",
    "trigramPoissonTable = pd.DataFrame(list(trigram_finder.score_ngrams(trigrams.poisson_stirling)), columns=['Trigram','poisson_stirling']).sort_values(by='poisson_stirling', ascending=False)\n",
    "trigramPoissonTable.to_csv('./methods/trigram/trigramPoissonTable.csv', index = False, header=True)"
   ]
  },
  {
   "cell_type": "markdown",
   "id": "014b15f3-ec3e-4d22-aee4-053947151941",
   "metadata": {
    "tags": []
   },
   "source": [
    "## Likelihood Ratio"
   ]
  },
  {
   "cell_type": "code",
   "execution_count": 15,
   "id": "b96b58e6-b512-4ad8-9a1a-ed754f1aa4f6",
   "metadata": {},
   "outputs": [],
   "source": [
    "bigramLikelihoodTable = pd.DataFrame(list(bigram_finder.score_ngrams(bigrams.likelihood_ratio)), columns=['Bigram','likelihood_ratio']).sort_values(by='likelihood_ratio', ascending=False)\n",
    "bigramLikelihoodTable.to_csv('./methods/bigram/bigramLikelihoodTable.csv', index = False, header=True)\n",
    "\n",
    "trigramLikelihoodTable = pd.DataFrame(list(trigram_finder.score_ngrams(trigrams.likelihood_ratio)), columns=['Trigram','likelihood_ratio']).sort_values(by='likelihood_ratio', ascending=False)\n",
    "trigramLikelihoodTable.to_csv('./methods/trigram/trigramLikelihoodTable.csv', index = False, header=True)"
   ]
  },
  {
   "cell_type": "markdown",
   "id": "2ef2bc99-bd03-4cf6-8815-faed45a70fbb",
   "metadata": {},
   "source": [
    "## Jaccard"
   ]
  },
  {
   "cell_type": "code",
   "execution_count": 16,
   "id": "0aeb6b14-590a-4926-a8a6-40d3d16781e6",
   "metadata": {},
   "outputs": [],
   "source": [
    "bigramJaccardTable = pd.DataFrame(list(bigram_finder.score_ngrams(bigrams.jaccard)), columns=['Bigram','jaccard']).sort_values(by='jaccard', ascending=False)\n",
    "bigramJaccardTable.to_csv('./methods/bigram/bigramJaccardTable.csv', index = False, header=True)\n",
    "\n",
    "trigramJaccardTable = pd.DataFrame(list(trigram_finder.score_ngrams(trigrams.jaccard)), columns=['Trigram','jaccard']).sort_values(by='jaccard', ascending=False)\n",
    "trigramJaccardTable.to_csv('./methods/trigram/trigramJaccardTable.csv', index = False, header=True)"
   ]
  },
  {
   "cell_type": "code",
   "execution_count": null,
   "id": "7dfb408d-7554-4106-a476-f779487f76f5",
   "metadata": {},
   "outputs": [],
   "source": []
  },
  {
   "cell_type": "code",
   "execution_count": null,
   "id": "76df800b",
   "metadata": {},
   "outputs": [],
   "source": []
  },
  {
   "cell_type": "code",
   "execution_count": null,
   "id": "076ca60b",
   "metadata": {},
   "outputs": [],
   "source": []
  }
 ],
 "metadata": {
  "kernelspec": {
   "display_name": "Python 3 (ipykernel)",
   "language": "python",
   "name": "python3"
  },
  "language_info": {
   "codemirror_mode": {
    "name": "ipython",
    "version": 3
   },
   "file_extension": ".py",
   "mimetype": "text/x-python",
   "name": "python",
   "nbconvert_exporter": "python",
   "pygments_lexer": "ipython3",
   "version": "3.9.7"
  }
 },
 "nbformat": 4,
 "nbformat_minor": 5
}
