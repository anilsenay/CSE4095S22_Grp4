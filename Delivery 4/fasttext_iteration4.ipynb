{
 "cells": [
  {
   "cell_type": "code",
   "execution_count": 10,
   "id": "c13efe9c-b323-4d9a-aff4-074024f9fb4e",
   "metadata": {
    "tags": []
   },
   "outputs": [
    {
     "name": "stdout",
     "output_type": "stream",
     "text": [
      "['undefined' 'asliye_hukuk_mahkemesi' 'bolge_adliye_mahkemesi'\n",
      " 'ticaret_mahkemesi' 'other' 'is_mahkemesi' 'asliye_ceza_mahkemesi'\n",
      " 'ceza_dairesi' 'cocuk_mahkemesi' 'agir_ceza_mahkemesi']\n"
     ]
    }
   ],
   "source": [
    "import pandas as pd # data processing, CSV file I/O (e.g. pd.read_csv)\n",
    "from sklearn.feature_extraction.text import TfidfVectorizer\n",
    "from sklearn.metrics import classification_report, confusion_matrix\n",
    "data = pd.read_csv('train_set_100.csv', encoding='utf-8')\n",
    "data['mahkemes'] = data['mahkemes'].values.astype(str)\n",
    "data['ictihats'] = data['ictihats'].values.astype(str)\n",
    "for i,mahkeme in enumerate(data['mahkemes']):\n",
    "    data['mahkemes'][i] = mahkeme.replace(\" \", \"_\")\n",
    "print(data.mahkemes.unique())\n",
    "data['labels'] = pd.factorize(data.mahkemes)[0]"
   ]
  },
  {
   "cell_type": "code",
   "execution_count": 11,
   "id": "cfacdd09-7cb5-40e1-845b-1d751f67bc2f",
   "metadata": {
    "tags": []
   },
   "outputs": [],
   "source": [
    "#data.head()\n",
    "#data.iloc[:, 1] = data.iloc[:, 1].apply(lambda x: '__label__' + x)"
   ]
  },
  {
   "cell_type": "code",
   "execution_count": 12,
   "id": "328d07e2-1e4f-4e68-9d31-56ced24a1bcf",
   "metadata": {},
   "outputs": [],
   "source": [
    "#data split for train and test\n",
    "from sklearn.model_selection import train_test_split\n",
    "\n",
    "train, test = train_test_split(data, test_size=0.2, random_state=42)\n",
    "train.reset_index(drop=True, inplace=True)\n",
    "test.reset_index(drop=True, inplace=True)"
   ]
  },
  {
   "cell_type": "code",
   "execution_count": 13,
   "id": "4975d3db-1007-4997-af19-877b985953ff",
   "metadata": {
    "tags": []
   },
   "outputs": [
    {
     "data": {
      "text/html": [
       "<div>\n",
       "<style scoped>\n",
       "    .dataframe tbody tr th:only-of-type {\n",
       "        vertical-align: middle;\n",
       "    }\n",
       "\n",
       "    .dataframe tbody tr th {\n",
       "        vertical-align: top;\n",
       "    }\n",
       "\n",
       "    .dataframe thead th {\n",
       "        text-align: right;\n",
       "    }\n",
       "</style>\n",
       "<table border=\"1\" class=\"dataframe\">\n",
       "  <thead>\n",
       "    <tr style=\"text-align: right;\">\n",
       "      <th></th>\n",
       "      <th>ictihats</th>\n",
       "      <th>mahkemes</th>\n",
       "      <th>labels</th>\n",
       "    </tr>\n",
       "  </thead>\n",
       "  <tbody>\n",
       "    <tr>\n",
       "      <th>0</th>\n",
       "      <td>taraf 6831 2b maddes orma beyan hanes şerh kay...</td>\n",
       "      <td>asliye_hukuk_mahkemesi</td>\n",
       "      <td>1</td>\n",
       "    </tr>\n",
       "    <tr>\n",
       "      <th>1</th>\n",
       "      <td>taraf çocuk kor istek ilişk başkan kurul 10012...</td>\n",
       "      <td>other</td>\n",
       "      <td>4</td>\n",
       "    </tr>\n",
       "    <tr>\n",
       "      <th>2</th>\n",
       "      <td>hük oe suç mahkumiyet çocuk nitelikli cinsel s...</td>\n",
       "      <td>agir_ceza_mahkemesi</td>\n",
       "      <td>9</td>\n",
       "    </tr>\n",
       "    <tr>\n",
       "      <th>3</th>\n",
       "      <td>hük mahkumiyet görüşülüp düşünül yüklene suç y...</td>\n",
       "      <td>asliye_ceza_mahkemesi</td>\n",
       "      <td>6</td>\n",
       "    </tr>\n",
       "    <tr>\n",
       "      <th>4</th>\n",
       "      <td>2709 141 6100 31 taraf görüle dav sonuç verile...</td>\n",
       "      <td>undefined</td>\n",
       "      <td>0</td>\n",
       "    </tr>\n",
       "  </tbody>\n",
       "</table>\n",
       "</div>"
      ],
      "text/plain": [
       "                                            ictihats                mahkemes  \\\n",
       "0  taraf 6831 2b maddes orma beyan hanes şerh kay...  asliye_hukuk_mahkemesi   \n",
       "1  taraf çocuk kor istek ilişk başkan kurul 10012...                   other   \n",
       "2  hük oe suç mahkumiyet çocuk nitelikli cinsel s...     agir_ceza_mahkemesi   \n",
       "3  hük mahkumiyet görüşülüp düşünül yüklene suç y...   asliye_ceza_mahkemesi   \n",
       "4  2709 141 6100 31 taraf görüle dav sonuç verile...               undefined   \n",
       "\n",
       "   labels  \n",
       "0       1  \n",
       "1       4  \n",
       "2       9  \n",
       "3       6  \n",
       "4       0  "
      ]
     },
     "execution_count": 13,
     "metadata": {},
     "output_type": "execute_result"
    }
   ],
   "source": [
    "train.head()"
   ]
  },
  {
   "cell_type": "code",
   "execution_count": 14,
   "id": "c4bd1462-2e68-48ef-a2c1-3faf2aa906ba",
   "metadata": {
    "tags": []
   },
   "outputs": [
    {
     "data": {
      "text/html": [
       "<div>\n",
       "<style scoped>\n",
       "    .dataframe tbody tr th:only-of-type {\n",
       "        vertical-align: middle;\n",
       "    }\n",
       "\n",
       "    .dataframe tbody tr th {\n",
       "        vertical-align: top;\n",
       "    }\n",
       "\n",
       "    .dataframe thead th {\n",
       "        text-align: right;\n",
       "    }\n",
       "</style>\n",
       "<table border=\"1\" class=\"dataframe\">\n",
       "  <thead>\n",
       "    <tr style=\"text-align: right;\">\n",
       "      <th></th>\n",
       "      <th>ictihats</th>\n",
       "      <th>mahkemes</th>\n",
       "      <th>labels</th>\n",
       "    </tr>\n",
       "  </thead>\n",
       "  <tbody>\n",
       "    <tr>\n",
       "      <th>0</th>\n",
       "      <td>hük cinsel taciz suç mahkumiyet tehdit suç kar...</td>\n",
       "      <td>asliye_ceza_mahkemesi</td>\n",
       "      <td>6</td>\n",
       "    </tr>\n",
       "    <tr>\n",
       "      <th>1</th>\n",
       "      <td>hük beraat nitelikli resmi belge düzenlenme be...</td>\n",
       "      <td>agir_ceza_mahkemesi</td>\n",
       "      <td>9</td>\n",
       "    </tr>\n",
       "    <tr>\n",
       "      <th>2</th>\n",
       "      <td>tarih bölge adli mahkeme verile müddet temyize...</td>\n",
       "      <td>bolge_adliye_mahkemesi</td>\n",
       "      <td>2</td>\n",
       "    </tr>\n",
       "    <tr>\n",
       "      <th>3</th>\n",
       "      <td>taraf tazminat mahkemeç sonuç kabul verile hük...</td>\n",
       "      <td>asliye_hukuk_mahkemesi</td>\n",
       "      <td>1</td>\n",
       "    </tr>\n",
       "    <tr>\n",
       "      <th>4</th>\n",
       "      <td>taraf muhakemes mahalli mahkemeç verile tarih ...</td>\n",
       "      <td>cocuk_mahkemesi</td>\n",
       "      <td>8</td>\n",
       "    </tr>\n",
       "  </tbody>\n",
       "</table>\n",
       "</div>"
      ],
      "text/plain": [
       "                                            ictihats                mahkemes  \\\n",
       "0  hük cinsel taciz suç mahkumiyet tehdit suç kar...   asliye_ceza_mahkemesi   \n",
       "1  hük beraat nitelikli resmi belge düzenlenme be...     agir_ceza_mahkemesi   \n",
       "2  tarih bölge adli mahkeme verile müddet temyize...  bolge_adliye_mahkemesi   \n",
       "3  taraf tazminat mahkemeç sonuç kabul verile hük...  asliye_hukuk_mahkemesi   \n",
       "4  taraf muhakemes mahalli mahkemeç verile tarih ...         cocuk_mahkemesi   \n",
       "\n",
       "   labels  \n",
       "0       6  \n",
       "1       9  \n",
       "2       2  \n",
       "3       1  \n",
       "4       8  "
      ]
     },
     "execution_count": 14,
     "metadata": {},
     "output_type": "execute_result"
    }
   ],
   "source": [
    "test.head()"
   ]
  },
  {
   "cell_type": "code",
   "execution_count": 15,
   "id": "8b9aa45c-b1e7-4cd6-9347-853eca8c3678",
   "metadata": {
    "tags": []
   },
   "outputs": [
    {
     "name": "stderr",
     "output_type": "stream",
     "text": [
      "C:\\Users\\anlsn\\AppData\\Local\\Temp\\ipykernel_14008\\3046627546.py:5: SettingWithCopyWarning: \n",
      "A value is trying to be set on a copy of a slice from a DataFrame\n",
      "\n",
      "See the caveats in the documentation: https://pandas.pydata.org/pandas-docs/stable/user_guide/indexing.html#returning-a-view-versus-a-copy\n",
      "  train.label_format[i]=\"__label__\"+str(train.mahkemes[i])+\" \"+str(train.ictihats[i])\n",
      "C:\\Users\\anlsn\\AppData\\Local\\Temp\\ipykernel_14008\\3046627546.py:6: SettingWithCopyWarning: \n",
      "A value is trying to be set on a copy of a slice from a DataFrame\n",
      "\n",
      "See the caveats in the documentation: https://pandas.pydata.org/pandas-docs/stable/user_guide/indexing.html#returning-a-view-versus-a-copy\n",
      "  train.label_format_without_ictihats[i]=\"__label__\"+str(train.mahkemes[i])\n"
     ]
    }
   ],
   "source": [
    "#Data prepare for fasttext format for train\n",
    "train[\"label_format\"]=0\n",
    "train[\"label_format_without_ictihats\"]=0\n",
    "for i in range(len(train)):\n",
    "    train.label_format[i]=\"__label__\"+str(train.mahkemes[i])+\" \"+str(train.ictihats[i])\n",
    "    train.label_format_without_ictihats[i]=\"__label__\"+str(train.mahkemes[i])"
   ]
  },
  {
   "cell_type": "code",
   "execution_count": 16,
   "id": "066cc0ed-4142-42c2-8009-cabbbd339dda",
   "metadata": {
    "tags": []
   },
   "outputs": [
    {
     "name": "stderr",
     "output_type": "stream",
     "text": [
      "C:\\Users\\anlsn\\AppData\\Local\\Temp\\ipykernel_14008\\708011051.py:5: SettingWithCopyWarning: \n",
      "A value is trying to be set on a copy of a slice from a DataFrame\n",
      "\n",
      "See the caveats in the documentation: https://pandas.pydata.org/pandas-docs/stable/user_guide/indexing.html#returning-a-view-versus-a-copy\n",
      "  test.label_format[i]=\"__label__\"+str(test.mahkemes[i])+\" \"+str(test.ictihats[i])\n",
      "C:\\Users\\anlsn\\AppData\\Local\\Temp\\ipykernel_14008\\708011051.py:6: SettingWithCopyWarning: \n",
      "A value is trying to be set on a copy of a slice from a DataFrame\n",
      "\n",
      "See the caveats in the documentation: https://pandas.pydata.org/pandas-docs/stable/user_guide/indexing.html#returning-a-view-versus-a-copy\n",
      "  test.label_format_without_ictihats[i]=\"__label__\"+str(test.mahkemes[i])\n"
     ]
    }
   ],
   "source": [
    "#Data prepare for fasttext format for test\n",
    "test[\"label_format\"]=0\n",
    "test[\"label_format_without_ictihats\"]=0\n",
    "for i in range(len(test)):\n",
    "    test.label_format[i]=\"__label__\"+str(test.mahkemes[i])+\" \"+str(test.ictihats[i])\n",
    "    test.label_format_without_ictihats[i]=\"__label__\"+str(test.mahkemes[i])"
   ]
  },
  {
   "cell_type": "code",
   "execution_count": 17,
   "id": "61e283ee-239c-4833-8587-5a247a76a4c4",
   "metadata": {},
   "outputs": [],
   "source": [
    "train.label_format.to_csv('fasttext_train.txt',index=None,header=None)\n",
    "test.label_format.to_csv('fasttext_test.txt',index=None,header=None)\n"
   ]
  },
  {
   "cell_type": "code",
   "execution_count": 18,
   "id": "4b60e6f2-65fd-43e7-b5fc-773277e374da",
   "metadata": {},
   "outputs": [],
   "source": [
    "import fasttext\n",
    "#train classifier model\n",
    "model = fasttext.train_supervised('fasttext_train.txt',epoch=100,lr=0.05,label_prefix='__label__',dim=300)\n",
    "# model.save_model('model.bin')\n"
   ]
  },
  {
   "cell_type": "code",
   "execution_count": 19,
   "id": "4808153b-696a-43b1-a658-585ed1b564da",
   "metadata": {},
   "outputs": [
    {
     "data": {
      "text/plain": [
       "(5571, 0.8804523424878837, 0.8804523424878837)"
      ]
     },
     "execution_count": 19,
     "metadata": {},
     "output_type": "execute_result"
    }
   ],
   "source": [
    "model.test('fasttext_test.txt')\n",
    "# print(model_test)\n",
    "# precision = model_test[1]\n",
    "# recall = model_test[2]\n",
    "# f1_score = (2*(precision*recall))/(precision + recall)\n",
    "# result = model.test('fasttext_train.txt')\n",
    "# validation = model.test('fasttext_test.txt')\n",
    "# text_line =  \"accuracy:\" + str(result[1])  + \"\\nvalidation:\" + str(validation[1]) + '\\n' \n",
    "# print ('Precision:', precision)\n",
    "# print ('F1 score:', f1_score)\n",
    "# print ('Recall:', recall)\n",
    "# print(text_line)\n",
    "\n"
   ]
  },
  {
   "cell_type": "code",
   "execution_count": 23,
   "id": "b43fbbc0-efcc-4f2c-8764-18ee5846c874",
   "metadata": {},
   "outputs": [
    {
     "name": "stdout",
     "output_type": "stream",
     "text": [
      "                                 precision    recall  f1-score   support\n",
      "\n",
      "   __label__agir_ceza_mahkemesi       0.82      0.73      0.78       365\n",
      " __label__asliye_ceza_mahkemesi       0.90      0.93      0.92      1950\n",
      "__label__asliye_hukuk_mahkemesi       0.79      0.82      0.81       375\n",
      "__label__bolge_adliye_mahkemesi       0.93      0.93      0.93       494\n",
      "          __label__ceza_dairesi       0.96      0.92      0.94       232\n",
      "       __label__cocuk_mahkemesi       0.56      0.46      0.50       172\n",
      "          __label__is_mahkemesi       0.92      0.96      0.94       255\n",
      "                 __label__other       0.74      0.65      0.69       292\n",
      "     __label__ticaret_mahkemesi       0.66      0.57      0.61        69\n",
      "             __label__undefined       0.93      0.94      0.93      1367\n",
      "\n",
      "                       accuracy                           0.88      5571\n",
      "                      macro avg       0.82      0.79      0.80      5571\n",
      "                   weighted avg       0.88      0.88      0.88      5571\n",
      "\n",
      "[[ 268   82    0    0    1    8    0    0    0    6]\n",
      " [  42 1821    0    0    4   45    0   17    0   21]\n",
      " [   0    1  309    9    0    7    1   25   10   13]\n",
      " [   0    1    9  458    0    0    0    9    3   14]\n",
      " [   4    5    0    0  213    0    0    0    0   10]\n",
      " [   7   78    7    1    0   79    0    0    0    0]\n",
      " [   0    0    1    0    0    0  244    1    0    9]\n",
      " [   2   30   33    8    1    0    6  191    1   20]\n",
      " [   0    0   17    1    0    0    0    1   39   11]\n",
      " [   3   11   13   17    4    2   13   15    6 1283]]\n"
     ]
    }
   ],
   "source": [
    "\n",
    "y_pred = test.iloc[:, 0].apply(lambda x: model.predict(x)[0][0])\n",
    "#print(y_pred.unique())\n",
    "y_test = test.label_format_without_ictihats\n",
    "#print(y_test.unique())\n",
    "\n",
    "cf_matrix = confusion_matrix(y_test, y_pred)\n",
    "\n",
    "print(classification_report(y_test, y_pred))\n",
    "print(cf_matrix)"
   ]
  },
  {
   "cell_type": "code",
   "execution_count": 24,
   "id": "cd4b8d35-b6dc-456e-a611-506e1b6a5e7c",
   "metadata": {},
   "outputs": [
    {
     "data": {
      "text/plain": [
       "(('__label__undefined',), array([1.00001001]))"
      ]
     },
     "execution_count": 24,
     "metadata": {},
     "output_type": "execute_result"
    }
   ],
   "source": [
    "model.predict('bicaklamak')\n"
   ]
  },
  {
   "cell_type": "code",
   "execution_count": 25,
   "id": "71a6db59-62de-4d7a-a57d-5bf86d9b02f5",
   "metadata": {},
   "outputs": [
    {
     "data": {
      "image/png": "[encoded data removed]",
      "text/plain": [
       "<Figure size 432x288 with 2 Axes>"
      ]
     },
     "metadata": {
      "needs_background": "light"
     },
     "output_type": "display_data"
    }
   ],
   "source": [
    "from sklearn.metrics import confusion_matrix\n",
    "import seaborn as sns\n",
    "import matplotlib.pyplot as plt\n",
    "\n",
    "ax = sns.heatmap(cf_matrix, annot=True, fmt='', cmap='Blues')"
   ]
  },
  {
   "cell_type": "code",
   "execution_count": null,
   "id": "33d3e3e9-ed31-4c01-91e2-d50d4caa44bb",
   "metadata": {},
   "outputs": [],
   "source": []
  }
 ],
 "metadata": {
  "kernelspec": {
   "display_name": "Python 3 (ipykernel)",
   "language": "python",
   "name": "python3"
  },
  "language_info": {
   "codemirror_mode": {
    "name": "ipython",
    "version": 3
   },
   "file_extension": ".py",
   "mimetype": "text/x-python",
   "name": "python",
   "nbconvert_exporter": "python",
   "pygments_lexer": "ipython3",
   "version": "3.9.5"
  }
 },
 "nbformat": 4,
 "nbformat_minor": 5
}
