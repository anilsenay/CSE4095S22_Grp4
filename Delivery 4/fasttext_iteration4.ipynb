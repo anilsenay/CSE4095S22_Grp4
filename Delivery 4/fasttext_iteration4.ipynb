{
 "cells": [
  {
   "cell_type": "code",
   "execution_count": 1,
   "id": "c13efe9c-b323-4d9a-aff4-074024f9fb4e",
   "metadata": {
    "tags": []
   },
   "outputs": [
    {
     "name": "stdout",
     "output_type": "stream",
     "text": [
      "['undefined' 'asliye_hukuk_mahkemesi' 'other' 'ticaret_mahkemesi'\n",
      " 'asliye_ceza_mahkemesi' 'ceza_dairesi' 'cocuk_mahkemesi']\n"
     ]
    }
   ],
   "source": [
    "import pandas as pd # data processing, CSV file I/O (e.g. pd.read_csv)\n",
    "from sklearn.feature_extraction.text import TfidfVectorizer\n",
    "from sklearn.metrics import classification_report, confusion_matrix\n",
    "data = pd.read_csv('train_set_100.csv', encoding='utf-8')\n",
    "data['mahkemes'] = data['mahkemes'].values.astype(str)\n",
    "data['ictihats'] = data['ictihats'].values.astype(str)\n",
    "for i,mahkeme in enumerate(data['mahkemes']):\n",
    "    data['mahkemes'][i] = mahkeme.replace(\" \", \"_\")\n",
    "print(data.mahkemes.unique())\n",
    "data['labels'] = pd.factorize(data.mahkemes)[0]"
   ]
  },
  {
   "cell_type": "code",
   "execution_count": 2,
   "id": "cfacdd09-7cb5-40e1-845b-1d751f67bc2f",
   "metadata": {
    "tags": []
   },
   "outputs": [],
   "source": [
    "#data.head()\n",
    "#data.iloc[:, 1] = data.iloc[:, 1].apply(lambda x: '__label__' + x)"
   ]
  },
  {
   "cell_type": "code",
   "execution_count": 3,
   "id": "328d07e2-1e4f-4e68-9d31-56ced24a1bcf",
   "metadata": {},
   "outputs": [],
   "source": [
    "#data split for train and test\n",
    "from sklearn.model_selection import train_test_split\n",
    "\n",
    "train, test = train_test_split(data, test_size=0.2, random_state=42)\n",
    "train.reset_index(drop=True, inplace=True)\n",
    "test.reset_index(drop=True, inplace=True)"
   ]
  },
  {
   "cell_type": "code",
   "execution_count": 4,
   "id": "4975d3db-1007-4997-af19-877b985953ff",
   "metadata": {
    "tags": []
   },
   "outputs": [
    {
     "data": {
      "text/html": [
       "<div>\n",
       "<style scoped>\n",
       "    .dataframe tbody tr th:only-of-type {\n",
       "        vertical-align: middle;\n",
       "    }\n",
       "\n",
       "    .dataframe tbody tr th {\n",
       "        vertical-align: top;\n",
       "    }\n",
       "\n",
       "    .dataframe thead th {\n",
       "        text-align: right;\n",
       "    }\n",
       "</style>\n",
       "<table border=\"1\" class=\"dataframe\">\n",
       "  <thead>\n",
       "    <tr style=\"text-align: right;\">\n",
       "      <th></th>\n",
       "      <th>ictihats</th>\n",
       "      <th>mahkemes</th>\n",
       "      <th>labels</th>\n",
       "    </tr>\n",
       "  </thead>\n",
       "  <tbody>\n",
       "    <tr>\n",
       "      <th>0</th>\n",
       "      <td>taraf 6831 2b maddes orma beyan hanes şerh kay...</td>\n",
       "      <td>asliye_hukuk_mahkemesi</td>\n",
       "      <td>1</td>\n",
       "    </tr>\n",
       "    <tr>\n",
       "      <th>1</th>\n",
       "      <td>taraf çocuk kor istek ilişk başkan kurul 10012...</td>\n",
       "      <td>other</td>\n",
       "      <td>2</td>\n",
       "    </tr>\n",
       "    <tr>\n",
       "      <th>2</th>\n",
       "      <td>hük oe suç mahkumiyet çocuk nitelikli cinsel s...</td>\n",
       "      <td>other</td>\n",
       "      <td>2</td>\n",
       "    </tr>\n",
       "    <tr>\n",
       "      <th>3</th>\n",
       "      <td>hük mahkumiyet görüşülüp düşünül yüklene suç y...</td>\n",
       "      <td>asliye_ceza_mahkemesi</td>\n",
       "      <td>4</td>\n",
       "    </tr>\n",
       "    <tr>\n",
       "      <th>4</th>\n",
       "      <td>2709 141 6100 31 taraf görüle dav sonuç verile...</td>\n",
       "      <td>undefined</td>\n",
       "      <td>0</td>\n",
       "    </tr>\n",
       "  </tbody>\n",
       "</table>\n",
       "</div>"
      ],
      "text/plain": [
       "                                            ictihats                mahkemes  \\\n",
       "0  taraf 6831 2b maddes orma beyan hanes şerh kay...  asliye_hukuk_mahkemesi   \n",
       "1  taraf çocuk kor istek ilişk başkan kurul 10012...                   other   \n",
       "2  hük oe suç mahkumiyet çocuk nitelikli cinsel s...                   other   \n",
       "3  hük mahkumiyet görüşülüp düşünül yüklene suç y...   asliye_ceza_mahkemesi   \n",
       "4  2709 141 6100 31 taraf görüle dav sonuç verile...               undefined   \n",
       "\n",
       "   labels  \n",
       "0       1  \n",
       "1       2  \n",
       "2       2  \n",
       "3       4  \n",
       "4       0  "
      ]
     },
     "execution_count": 4,
     "metadata": {},
     "output_type": "execute_result"
    }
   ],
   "source": [
    "train.head()"
   ]
  },
  {
   "cell_type": "code",
   "execution_count": 5,
   "id": "c4bd1462-2e68-48ef-a2c1-3faf2aa906ba",
   "metadata": {
    "tags": []
   },
   "outputs": [
    {
     "data": {
      "text/html": [
       "<div>\n",
       "<style scoped>\n",
       "    .dataframe tbody tr th:only-of-type {\n",
       "        vertical-align: middle;\n",
       "    }\n",
       "\n",
       "    .dataframe tbody tr th {\n",
       "        vertical-align: top;\n",
       "    }\n",
       "\n",
       "    .dataframe thead th {\n",
       "        text-align: right;\n",
       "    }\n",
       "</style>\n",
       "<table border=\"1\" class=\"dataframe\">\n",
       "  <thead>\n",
       "    <tr style=\"text-align: right;\">\n",
       "      <th></th>\n",
       "      <th>ictihats</th>\n",
       "      <th>mahkemes</th>\n",
       "      <th>labels</th>\n",
       "    </tr>\n",
       "  </thead>\n",
       "  <tbody>\n",
       "    <tr>\n",
       "      <th>0</th>\n",
       "      <td>hük cinsel taciz suç mahkumiyet tehdit suç kar...</td>\n",
       "      <td>asliye_ceza_mahkemesi</td>\n",
       "      <td>4</td>\n",
       "    </tr>\n",
       "    <tr>\n",
       "      <th>1</th>\n",
       "      <td>hük beraat nitelikli resmi belge düzenlenme be...</td>\n",
       "      <td>other</td>\n",
       "      <td>2</td>\n",
       "    </tr>\n",
       "    <tr>\n",
       "      <th>2</th>\n",
       "      <td>tarih bölge adli mahkeme verile müddet temyize...</td>\n",
       "      <td>other</td>\n",
       "      <td>2</td>\n",
       "    </tr>\n",
       "    <tr>\n",
       "      <th>3</th>\n",
       "      <td>taraf tazminat mahkemeç sonuç kabul verile hük...</td>\n",
       "      <td>other</td>\n",
       "      <td>2</td>\n",
       "    </tr>\n",
       "    <tr>\n",
       "      <th>4</th>\n",
       "      <td>taraf muhakemes mahalli mahkemeç verile tarih ...</td>\n",
       "      <td>cocuk_mahkemesi</td>\n",
       "      <td>6</td>\n",
       "    </tr>\n",
       "  </tbody>\n",
       "</table>\n",
       "</div>"
      ],
      "text/plain": [
       "                                            ictihats               mahkemes  \\\n",
       "0  hük cinsel taciz suç mahkumiyet tehdit suç kar...  asliye_ceza_mahkemesi   \n",
       "1  hük beraat nitelikli resmi belge düzenlenme be...                  other   \n",
       "2  tarih bölge adli mahkeme verile müddet temyize...                  other   \n",
       "3  taraf tazminat mahkemeç sonuç kabul verile hük...                  other   \n",
       "4  taraf muhakemes mahalli mahkemeç verile tarih ...        cocuk_mahkemesi   \n",
       "\n",
       "   labels  \n",
       "0       4  \n",
       "1       2  \n",
       "2       2  \n",
       "3       2  \n",
       "4       6  "
      ]
     },
     "execution_count": 5,
     "metadata": {},
     "output_type": "execute_result"
    }
   ],
   "source": [
    "test.head()"
   ]
  },
  {
   "cell_type": "code",
   "execution_count": 6,
   "id": "8b9aa45c-b1e7-4cd6-9347-853eca8c3678",
   "metadata": {
    "tags": []
   },
   "outputs": [
    {
     "name": "stderr",
     "output_type": "stream",
     "text": [
      "C:\\Users\\onkol\\AppData\\Local\\Temp/ipykernel_30168/3046627546.py:2: SettingWithCopyWarning: \n",
      "A value is trying to be set on a copy of a slice from a DataFrame.\n",
      "Try using .loc[row_indexer,col_indexer] = value instead\n",
      "\n",
      "See the caveats in the documentation: https://pandas.pydata.org/pandas-docs/stable/user_guide/indexing.html#returning-a-view-versus-a-copy\n",
      "  train[\"label_format\"]=0\n",
      "C:\\Users\\onkol\\AppData\\Local\\Temp/ipykernel_30168/3046627546.py:3: SettingWithCopyWarning: \n",
      "A value is trying to be set on a copy of a slice from a DataFrame.\n",
      "Try using .loc[row_indexer,col_indexer] = value instead\n",
      "\n",
      "See the caveats in the documentation: https://pandas.pydata.org/pandas-docs/stable/user_guide/indexing.html#returning-a-view-versus-a-copy\n",
      "  train[\"label_format_without_ictihats\"]=0\n",
      "C:\\Users\\onkol\\AppData\\Local\\Temp/ipykernel_30168/3046627546.py:5: SettingWithCopyWarning: \n",
      "A value is trying to be set on a copy of a slice from a DataFrame\n",
      "\n",
      "See the caveats in the documentation: https://pandas.pydata.org/pandas-docs/stable/user_guide/indexing.html#returning-a-view-versus-a-copy\n",
      "  train.label_format[i]=\"__label__\"+str(train.mahkemes[i])+\" \"+str(train.ictihats[i])\n",
      "C:\\Users\\onkol\\anaconda3\\lib\\site-packages\\pandas\\core\\indexing.py:1732: SettingWithCopyWarning: \n",
      "A value is trying to be set on a copy of a slice from a DataFrame\n",
      "\n",
      "See the caveats in the documentation: https://pandas.pydata.org/pandas-docs/stable/user_guide/indexing.html#returning-a-view-versus-a-copy\n",
      "  self._setitem_single_block(indexer, value, name)\n",
      "C:\\Users\\onkol\\AppData\\Local\\Temp/ipykernel_30168/3046627546.py:6: SettingWithCopyWarning: \n",
      "A value is trying to be set on a copy of a slice from a DataFrame\n",
      "\n",
      "See the caveats in the documentation: https://pandas.pydata.org/pandas-docs/stable/user_guide/indexing.html#returning-a-view-versus-a-copy\n",
      "  train.label_format_without_ictihats[i]=\"__label__\"+str(train.mahkemes[i])\n",
      "C:\\Users\\onkol\\anaconda3\\lib\\site-packages\\pandas\\core\\series.py:1056: SettingWithCopyWarning: \n",
      "A value is trying to be set on a copy of a slice from a DataFrame\n",
      "\n",
      "See the caveats in the documentation: https://pandas.pydata.org/pandas-docs/stable/user_guide/indexing.html#returning-a-view-versus-a-copy\n",
      "  cacher_needs_updating = self._check_is_chained_assignment_possible()\n"
     ]
    }
   ],
   "source": [
    "#Data prepare for fasttext format for train\n",
    "train[\"label_format\"]=0\n",
    "train[\"label_format_without_ictihats\"]=0\n",
    "for i in range(len(train)):\n",
    "    train.label_format[i]=\"__label__\"+str(train.mahkemes[i])+\" \"+str(train.ictihats[i])\n",
    "    train.label_format_without_ictihats[i]=\"__label__\"+str(train.mahkemes[i])"
   ]
  },
  {
   "cell_type": "code",
   "execution_count": 7,
   "id": "066cc0ed-4142-42c2-8009-cabbbd339dda",
   "metadata": {
    "tags": []
   },
   "outputs": [
    {
     "name": "stderr",
     "output_type": "stream",
     "text": [
      "C:\\Users\\onkol\\AppData\\Local\\Temp/ipykernel_30168/708011051.py:2: SettingWithCopyWarning: \n",
      "A value is trying to be set on a copy of a slice from a DataFrame.\n",
      "Try using .loc[row_indexer,col_indexer] = value instead\n",
      "\n",
      "See the caveats in the documentation: https://pandas.pydata.org/pandas-docs/stable/user_guide/indexing.html#returning-a-view-versus-a-copy\n",
      "  test[\"label_format\"]=0\n",
      "C:\\Users\\onkol\\AppData\\Local\\Temp/ipykernel_30168/708011051.py:3: SettingWithCopyWarning: \n",
      "A value is trying to be set on a copy of a slice from a DataFrame.\n",
      "Try using .loc[row_indexer,col_indexer] = value instead\n",
      "\n",
      "See the caveats in the documentation: https://pandas.pydata.org/pandas-docs/stable/user_guide/indexing.html#returning-a-view-versus-a-copy\n",
      "  test[\"label_format_without_ictihats\"]=0\n",
      "C:\\Users\\onkol\\AppData\\Local\\Temp/ipykernel_30168/708011051.py:5: SettingWithCopyWarning: \n",
      "A value is trying to be set on a copy of a slice from a DataFrame\n",
      "\n",
      "See the caveats in the documentation: https://pandas.pydata.org/pandas-docs/stable/user_guide/indexing.html#returning-a-view-versus-a-copy\n",
      "  test.label_format[i]=\"__label__\"+str(test.mahkemes[i])+\" \"+str(test.ictihats[i])\n",
      "C:\\Users\\onkol\\AppData\\Local\\Temp/ipykernel_30168/708011051.py:6: SettingWithCopyWarning: \n",
      "A value is trying to be set on a copy of a slice from a DataFrame\n",
      "\n",
      "See the caveats in the documentation: https://pandas.pydata.org/pandas-docs/stable/user_guide/indexing.html#returning-a-view-versus-a-copy\n",
      "  test.label_format_without_ictihats[i]=\"__label__\"+str(test.mahkemes[i])\n"
     ]
    }
   ],
   "source": [
    "#Data prepare for fasttext format for test\n",
    "test[\"label_format\"]=0\n",
    "test[\"label_format_without_ictihats\"]=0\n",
    "for i in range(len(test)):\n",
    "    test.label_format[i]=\"__label__\"+str(test.mahkemes[i])+\" \"+str(test.ictihats[i])\n",
    "    test.label_format_without_ictihats[i]=\"__label__\"+str(test.mahkemes[i])"
   ]
  },
  {
   "cell_type": "code",
   "execution_count": 8,
   "id": "61e283ee-239c-4833-8587-5a247a76a4c4",
   "metadata": {},
   "outputs": [],
   "source": [
    "train.label_format.to_csv('fasttext_train.txt',index=None,header=None)\n",
    "test.label_format.to_csv('fasttext_test.txt',index=None,header=None)\n"
   ]
  },
  {
   "cell_type": "code",
   "execution_count": 9,
   "id": "4b60e6f2-65fd-43e7-b5fc-773277e374da",
   "metadata": {},
   "outputs": [],
   "source": [
    "import fasttext\n",
    "#train classifier model\n",
    "model = fasttext.train_supervised('fasttext_train.txt',epoch=100,lr=0.05,label_prefix='__label__',dim=300)\n",
    "# model.save_model('model.bin')\n"
   ]
  },
  {
   "cell_type": "code",
   "execution_count": 10,
   "id": "4808153b-696a-43b1-a658-585ed1b564da",
   "metadata": {},
   "outputs": [
    {
     "data": {
      "text/plain": [
       "(5571, 0.8930174115957638, 0.8930174115957638)"
      ]
     },
     "execution_count": 10,
     "metadata": {},
     "output_type": "execute_result"
    }
   ],
   "source": [
    "model.test('fasttext_test.txt')\n",
    "# print(model_test)\n",
    "# precision = model_test[1]\n",
    "# recall = model_test[2]\n",
    "# f1_score = (2*(precision*recall))/(precision + recall)\n",
    "# result = model.test('fasttext_train.txt')\n",
    "# validation = model.test('fasttext_test.txt')\n",
    "# text_line =  \"accuracy:\" + str(result[1])  + \"\\nvalidation:\" + str(validation[1]) + '\\n' \n",
    "# print ('Precision:', precision)\n",
    "# print ('F1 score:', f1_score)\n",
    "# print ('Recall:', recall)\n",
    "# print(text_line)\n",
    "\n"
   ]
  },
  {
   "cell_type": "code",
   "execution_count": 11,
   "id": "b43fbbc0-efcc-4f2c-8764-18ee5846c874",
   "metadata": {},
   "outputs": [
    {
     "name": "stdout",
     "output_type": "stream",
     "text": [
      "                                 precision    recall  f1-score   support\n",
      "\n",
      " __label__asliye_ceza_mahkemesi       0.90      0.93      0.91      1950\n",
      "__label__asliye_hukuk_mahkemesi       0.82      0.81      0.81       243\n",
      "          __label__ceza_dairesi       0.95      0.93      0.94       232\n",
      "       __label__cocuk_mahkemesi       0.76      0.69      0.72        32\n",
      "                 __label__other       0.87      0.85      0.86      1719\n",
      "     __label__ticaret_mahkemesi       0.60      0.32      0.42        28\n",
      "             __label__undefined       0.93      0.93      0.93      1367\n",
      "\n",
      "                       accuracy                           0.89      5571\n",
      "                      macro avg       0.83      0.78      0.80      5571\n",
      "                   weighted avg       0.89      0.89      0.89      5571\n",
      "\n",
      "[[1807    1    4    0  123    0   15]\n",
      " [   2  196    1    7   25    3    9]\n",
      " [   5    0  215    0    5    0    7]\n",
      " [   0    8    0   22    2    0    0]\n",
      " [ 187   10    3    0 1458    1   60]\n",
      " [   0   12    0    0    5    9    2]\n",
      " [  16   11    3    0   67    2 1268]]\n"
     ]
    }
   ],
   "source": [
    "\n",
    "y_pred = test.iloc[:, 0].apply(lambda x: model.predict(x)[0][0])\n",
    "#print(y_pred.unique())\n",
    "y_test = test.label_format_without_ictihats\n",
    "#print(y_test.unique())\n",
    "\n",
    "print(classification_report(y_test, y_pred))\n",
    "print(confusion_matrix(y_test, y_pred))"
   ]
  },
  {
   "cell_type": "code",
   "execution_count": 12,
   "id": "cd4b8d35-b6dc-456e-a611-506e1b6a5e7c",
   "metadata": {},
   "outputs": [
    {
     "data": {
      "text/plain": [
       "(('__label__undefined',), array([1.00001001]))"
      ]
     },
     "execution_count": 12,
     "metadata": {},
     "output_type": "execute_result"
    }
   ],
   "source": [
    "model.predict('bicaklamak')\n"
   ]
  }
 ],
 "metadata": {
  "kernelspec": {
   "display_name": "Python 3 (ipykernel)",
   "language": "python",
   "name": "python3"
  },
  "language_info": {
   "codemirror_mode": {
    "name": "ipython",
    "version": 3
   },
   "file_extension": ".py",
   "mimetype": "text/x-python",
   "name": "python",
   "nbconvert_exporter": "python",
   "pygments_lexer": "ipython3",
   "version": "3.9.5"
  }
 },
 "nbformat": 4,
 "nbformat_minor": 5
}
