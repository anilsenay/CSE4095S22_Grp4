{
 "cells": [
  {
   "cell_type": "markdown",
   "id": "6c08e5fd-c7f7-4457-b82d-08d6d0f00c49",
   "metadata": {},
   "source": [
    "## Imports"
   ]
  },
  {
   "cell_type": "code",
   "execution_count": 1,
   "id": "27cb0d22-f68c-4d89-9426-0cb0ef5ad86a",
   "metadata": {},
   "outputs": [],
   "source": [
    "import sys,re, os, glob, json, string, pprint\n",
    "import pandas as pd\n",
    "import numpy as np\n",
    "import matplotlib.pyplot as plt\n",
    "from snowballstemmer import TurkishStemmer \n",
    "from collections import Counter\n",
    "from sklearn.feature_extraction.text import TfidfVectorizer\n",
    "from nltk.tokenize import word_tokenize \n",
    "from sklearn.naive_bayes import MultinomialNB\n",
    "from sklearn.model_selection import train_test_split\n",
    "from sklearn.metrics import classification_report, confusion_matrix\n",
    "from sklearn.svm import SVC\n",
    "from sklearn.metrics import classification_report, confusion_matrix\n",
    "from sklearn.metrics import accuracy_score, precision_score, recall_score, f1_score\n",
    "from sklearn.linear_model import LogisticRegression\n",
    "from sklearn.metrics import confusion_matrix\n",
    "from difflib import SequenceMatcher\n",
    "from sklearn.metrics.pairwise import cosine_similarity\n",
    "from sklearn.feature_extraction.text import CountVectorizer\n",
    "from sklearn.metrics import confusion_matrix\n",
    "import seaborn as sns\n",
    "import matplotlib.pyplot as plt"
   ]
  },
  {
   "cell_type": "markdown",
   "id": "71c5c0d7-a4df-4033-83a1-e77867bcd1b0",
   "metadata": {},
   "source": [
    "## Global Variables"
   ]
  },
  {
   "cell_type": "code",
   "execution_count": 2,
   "id": "60d29c8d-3ea1-468a-89d7-b36633bf0658",
   "metadata": {},
   "outputs": [],
   "source": [
    "word_size_threshold = 100\n",
    "similarity_ratio = 0.90\n",
    "top_crime_number = 10\n",
    "\n",
    "#path = \"datasets/*.json\"\n",
    "path = \"../datasets/*.json\" \n",
    "\n",
    "## this config variables to disable cells for next runs to avoid doing unnecessary processes\n",
    "create_data_json = False\n",
    "enable_preprocessing = False"
   ]
  },
  {
   "cell_type": "markdown",
   "id": "0e8de2db-1211-4d1e-aabc-90982ab661de",
   "metadata": {},
   "source": [
    "## Read Datasets"
   ]
  },
  {
   "cell_type": "code",
   "execution_count": 3,
   "id": "6ff48246-8214-4ed5-9fcb-29becb34d914",
   "metadata": {},
   "outputs": [
    {
     "ename": "KeyboardInterrupt",
     "evalue": "",
     "output_type": "error",
     "traceback": [
      "\u001b[1;31m---------------------------------------------------------------------------\u001b[0m",
      "\u001b[1;31mKeyboardInterrupt\u001b[0m                         Traceback (most recent call last)",
      "Input \u001b[1;32mIn [3]\u001b[0m, in \u001b[0;36m<cell line: 4>\u001b[1;34m()\u001b[0m\n\u001b[0;32m      3\u001b[0m json_arr \u001b[38;5;241m=\u001b[39m []\n\u001b[0;32m      4\u001b[0m \u001b[38;5;28;01mfor\u001b[39;00m file \u001b[38;5;129;01min\u001b[39;00m files:\n\u001b[1;32m----> 5\u001b[0m     f \u001b[38;5;241m=\u001b[39m \u001b[38;5;28;43mopen\u001b[39;49m\u001b[43m(\u001b[49m\u001b[43mfile\u001b[49m\u001b[43m,\u001b[49m\u001b[43m \u001b[49m\u001b[38;5;124;43m\"\u001b[39;49m\u001b[38;5;124;43mr\u001b[39;49m\u001b[38;5;124;43m\"\u001b[39;49m\u001b[43m,\u001b[49m\u001b[43m \u001b[49m\u001b[43mencoding\u001b[49m\u001b[38;5;241;43m=\u001b[39;49m\u001b[38;5;124;43m'\u001b[39;49m\u001b[38;5;124;43mutf-8\u001b[39;49m\u001b[38;5;124;43m'\u001b[39;49m\u001b[43m)\u001b[49m\n\u001b[0;32m      6\u001b[0m     jsonData \u001b[38;5;241m=\u001b[39m json\u001b[38;5;241m.\u001b[39mloads(f\u001b[38;5;241m.\u001b[39mread())\n\u001b[0;32m      7\u001b[0m     json_arr\u001b[38;5;241m.\u001b[39mappend(jsonData)\n",
      "File \u001b[1;32mc:\\users\\anlsn\\appdata\\local\\programs\\python\\python39\\lib\\codecs.py:309\u001b[0m, in \u001b[0;36mBufferedIncrementalDecoder.__init__\u001b[1;34m(self, errors)\u001b[0m\n\u001b[0;32m    303\u001b[0m \u001b[38;5;28;01mclass\u001b[39;00m \u001b[38;5;21;01mBufferedIncrementalDecoder\u001b[39;00m(IncrementalDecoder):\n\u001b[0;32m    304\u001b[0m     \u001b[38;5;124;03m\"\"\"\u001b[39;00m\n\u001b[0;32m    305\u001b[0m \u001b[38;5;124;03m    This subclass of IncrementalDecoder can be used as the baseclass for an\u001b[39;00m\n\u001b[0;32m    306\u001b[0m \u001b[38;5;124;03m    incremental decoder if the decoder must be able to handle incomplete\u001b[39;00m\n\u001b[0;32m    307\u001b[0m \u001b[38;5;124;03m    byte sequences.\u001b[39;00m\n\u001b[0;32m    308\u001b[0m \u001b[38;5;124;03m    \"\"\"\u001b[39;00m\n\u001b[1;32m--> 309\u001b[0m     \u001b[38;5;28;01mdef\u001b[39;00m \u001b[38;5;21m__init__\u001b[39m(\u001b[38;5;28mself\u001b[39m, errors\u001b[38;5;241m=\u001b[39m\u001b[38;5;124m'\u001b[39m\u001b[38;5;124mstrict\u001b[39m\u001b[38;5;124m'\u001b[39m):\n\u001b[0;32m    310\u001b[0m         IncrementalDecoder\u001b[38;5;241m.\u001b[39m\u001b[38;5;21m__init__\u001b[39m(\u001b[38;5;28mself\u001b[39m, errors)\n\u001b[0;32m    311\u001b[0m         \u001b[38;5;66;03m# undecoded input that is kept between calls to decode()\u001b[39;00m\n",
      "\u001b[1;31mKeyboardInterrupt\u001b[0m: "
     ]
    }
   ],
   "source": [
    "files = glob.glob(path)\n",
    "\n",
    "json_arr = []\n",
    "for file in files:\n",
    "    f = open(file, \"r\", encoding='utf-8')\n",
    "    jsonData = json.loads(f.read())\n",
    "    json_arr.append(jsonData)\n"
   ]
  },
  {
   "cell_type": "code",
   "execution_count": null,
   "id": "a1821547-0a53-45f1-9c54-38803763f24d",
   "metadata": {
    "tags": []
   },
   "outputs": [],
   "source": [
    "## Create labels from dataset\n",
    "\n",
    "if(not create_data_json):\n",
    "    raise Exception(\"NOT ERROR - SKIPPINIG\")\n",
    "\n",
    "# To check if a dictionary has a key or not\n",
    "def  has_key(dict, key):\n",
    "    return True if key in dict.keys() else False\n",
    "\n",
    "labels = {} \n",
    "\n",
    "def replaceTurkishCharacters(txt):\n",
    "    return txt.replace('Ğ','g').replace('Ü','u').replace('Ş','s').replace('I','i').replace('İ','i').replace('Ö','o').replace('Ç','c').replace('ğ','g').replace('ü','u').replace('ş','s').replace('ı','i').replace('ö','o').replace('ç','c')\n",
    "\n",
    "\n",
    "\n",
    "# Get all \"Mahkemesi\" labels with their frequency\n",
    "def readLabels(jsonData):    \n",
    "    key = replaceTurkishCharacters(jsonData[\"Mahkemesi\"]).replace('...','').strip().lower() if jsonData[\"Mahkemesi\"] != '' else \"undefined\"\n",
    "    key = ' '.join(key.split())\n",
    "    if (not has_key(labels, key)):\n",
    "        \n",
    "        #print(key)\n",
    "        labels[key] = 1    \n",
    "    else :\n",
    "        labels[key] = labels[key] + 1\n",
    "\n",
    "for file in json_arr: \n",
    "    readLabels(file)\n",
    "\n",
    "similar_words = {}    \n",
    "    \n",
    "for label in labels.keys():\n",
    "    if 'bolge adliye mahkemesi' in label:\n",
    "        similar_words[label] = 'bolge adliye mahkemesi'\n",
    "    elif label == 'asliye hukuk (is) mahkemesi':\n",
    "        similar_words[label] = 'is mahkemesi'\n",
    "    elif label == 'aile mahkemesi':\n",
    "        similar_words[label] = 'cocuk mahkemesi'\n",
    "    elif label == 'cocuk agir ceza mahkemesi':\n",
    "        similar_words[label] = 'cocuk mahkemesi'\n",
    "    elif label == 'asliye hukuk (aile) mahkemesi':\n",
    "        similar_words[label] = 'asliye hukuk mahkemesi'\n",
    "    \n",
    "# convert dictionary items(labels) to arrays and sort them\n",
    "items = list(map(lambda x: list(x), labels.items()))\n",
    "labels_array = sorted(items, key=lambda x: x[1], reverse=True)\n",
    "\n",
    "# Filter labels with 1 frequency\n",
    "array_final = (list(filter(lambda x: x[1] > 1 , labels_array)))\n",
    "\n",
    "# Sort by frequency\n",
    "array_final = sorted(array_final, key=lambda x: x[1], reverse=True)\n",
    "\n",
    "# Save labels with frequencies to data.json\n",
    "jsonString = json.dumps(array_final, indent = 4, ensure_ascii=False)\n",
    "jsonFile = open(\"data.json\", \"w\", encoding='utf-8')\n",
    "jsonFile.write(jsonString)\n",
    "jsonFile.close()\n"
   ]
  },
  {
   "cell_type": "markdown",
   "id": "da360665-ec6b-4c02-910d-fef63c8028d4",
   "metadata": {
    "tags": []
   },
   "source": [
    "## Read data.json"
   ]
  },
  {
   "cell_type": "code",
   "execution_count": null,
   "id": "04b5d09b-1eeb-4c9d-b8e4-c75ce6dd9296",
   "metadata": {
    "tags": []
   },
   "outputs": [],
   "source": [
    "if(not enable_preprocessing):\n",
    "    raise Exception(\"NOT ERROR - SKIPPINIG\")\n",
    "    \n",
    "ictihats = []\n",
    "suc_array = []\n",
    "\n",
    "# Get top 10 crimes from data.json\n",
    "top_crimes = []\n",
    "top_results = []\n",
    "with open(\"data.json\", encoding='utf-8') as jsonFile:\n",
    "    data = json.load(jsonFile)\n",
    "    top_crimes = list(map(lambda x: x[0], data[:top_crime_number]))\n",
    "    top_results = list(map(lambda x: x[1], data[:top_crime_number]))\n",
    "\n",
    "\n",
    "# Get all ictihat and suç from dataset\n",
    "# if a crime similar with any of top_crimes, then use the crime in top_crimes\n",
    "for jsonData in json_arr:\n",
    "    key = replaceTurkishCharacters(jsonData[\"Mahkemesi\"]).replace('...','').strip().lower() if jsonData[\"Mahkemesi\"] != '' else \"undefined\"\n",
    "    key = ' '.join(key.split())\n",
    "    if (key !=\"undefined\" and key in similar_words):\n",
    "        key = similar_words[key]\n",
    "    \n",
    "    #key = similar_suc if similar_suc is not None else key\n",
    "    suc = key if key in top_crimes or key == 'undefined' else \"other\"\n",
    "\n",
    "    new_ictihat = jsonData['ictihat'].strip()\n",
    "    ictihats.append(new_ictihat)\n",
    "    new_ictihat_ctr = new_ictihat.split()\n",
    "    num_of_words = len(new_ictihat_ctr)\n",
    "    suc_array.append(suc.strip())\n",
    "    "
   ]
  },
  {
   "cell_type": "code",
   "execution_count": null,
   "id": "9fb32437-1499-4eb8-a58d-d8d3837fa252",
   "metadata": {},
   "outputs": [],
   "source": [
    "\n",
    "if(not enable_preprocessing):\n",
    "    raise Exception(\"NOT ERROR - SKIPPINIG\")\n",
    "\n",
    "# Draw top crimes label/frequency chart\n",
    "def draw_chart(options):\n",
    "    print(\"\\n--------\",options[\"title\"],\"--------\")\n",
    "    data = pd.read_csv(options[\"file\"]) \n",
    "    words = []\n",
    "    words = data.head(15)[data.columns[0]]\n",
    "    freqs = data.head(15)[data.columns[1]]\n",
    "    colors = ['#bc80bd', '#fb8072', '#80b1d3', '#8dd3c7', '#fdb462',\n",
    "              '#b3de69', '#bebada', '#F3D1B0', '#fccde5', '#d9d9d9']\n",
    "\n",
    "    reversed_words = words[::-1]\n",
    "    reversed_freqs = freqs[::-1]\n",
    "\n",
    "    plt.barh(reversed_words, reversed_freqs, color=colors)\n",
    "    plt.ylabel(\"labels\")\n",
    "    plt.xlabel(\"occurences\")\n",
    "    plt.title(options[\"title\"])\n",
    "    plt.show()\n",
    "    \n",
    "df_chart = pd.DataFrame(columns= {'crimes', 'results'})\n",
    "df_chart['crimes'] = top_crimes\n",
    "df_chart['results'] = top_results\n",
    "df_chart.to_csv('chart.csv', encoding='utf-8', index = False)\n",
    "\n",
    "draw_chart({\"file\": 'chart.csv', \"title\": \"Labels and their corresponding occurences\"})"
   ]
  },
  {
   "cell_type": "markdown",
   "id": "8e8f9426-0989-4e9c-86ca-9761ae0c9fe5",
   "metadata": {},
   "source": [
    "## Preprocessing"
   ]
  },
  {
   "cell_type": "code",
   "execution_count": null,
   "id": "72cb2224-5f34-4e3b-a69c-e7dd2d206800",
   "metadata": {
    "tags": []
   },
   "outputs": [],
   "source": [
    "if(not enable_preprocessing):\n",
    "    raise Exception(\"NOT ERROR - SKIPPINIG\")\n",
    "\n",
    "# lower all words in a ictihat\n",
    "ictihats_lower = []\n",
    "for i in ictihats:\n",
    "    i = i.lower()\n",
    "    ictihats_lower.append(i)\n",
    "    \n",
    "ictihats_punctuation = []\n",
    "\n",
    "file = open(\"stopwords.txt\", \"r\", newline='', encoding='utf-8')\n",
    "result = file.read()\n",
    "stopwords = word_tokenize(result)\n",
    "\n",
    "# Punctuation and remove stopwords\n",
    "for ictihat in ictihats_lower:\n",
    "    ictihat = ictihat.translate(str.maketrans(\"\", \"\", string.punctuation))\n",
    "    tokenized_words = ([word for word in ictihat.split() if word not in stopwords and len(word) > 1 and re.match(\"^[A-Z0-9a-zğüşöçİĞÜŞÖÇ]*$\", word)])\n",
    "    ictihats_punctuation.append(' '.join(tokenized_words[:word_size_threshold]))\n",
    "\n",
    "# stemming words\n",
    "turkStem = TurkishStemmer()\n",
    "for index, ictihat in enumerate(ictihats_punctuation,start=0):\n",
    "    ictihats_punctuation[index] = ' '.join([turkStem.stemWord(word) for word in ictihat.split()])\n"
   ]
  },
  {
   "cell_type": "markdown",
   "id": "b945fcd6-9d25-4146-8d98-cb76b1c130bd",
   "metadata": {
    "tags": []
   },
   "source": [
    "## write data into csv file"
   ]
  },
  {
   "cell_type": "code",
   "execution_count": null,
   "id": "e54c0132-3234-404c-a793-21b194fb1d69",
   "metadata": {},
   "outputs": [],
   "source": [
    "if(not enable_preprocessing):\n",
    "    raise Exception(\"NOT ERROR - SKIPPINIG\")\n",
    "\n",
    "# Save all preprocessed ictihat - suç to avoid processing in later runs \n",
    "df = pd.DataFrame(columns = ['ictihats', 'mahkemes'])\n",
    "df['ictihats'] = ictihats_punctuation\n",
    "df['mahkemes'] = suc_array\n",
    "csv_file_name = 'train_set_' + str(word_size_threshold) + '.csv'\n",
    "\n",
    "df.to_csv(csv_file_name, encoding='utf-8', index=False)\n"
   ]
  },
  {
   "cell_type": "markdown",
   "id": "0f93ae09-56b7-48a3-9ea3-82af883c29ea",
   "metadata": {},
   "source": [
    "## Read train set from CSV"
   ]
  },
  {
   "cell_type": "code",
   "execution_count": 4,
   "id": "57b92992-6042-48bb-94f3-b3b38296e08d",
   "metadata": {},
   "outputs": [],
   "source": [
    "# if CSV is exist from previos run, use it to get ictihat - suç occurrences\n",
    "csv_file_name = 'train_set_' + str(word_size_threshold) + '.csv'\n",
    "my_csv = pd.read_csv(csv_file_name, dtype=str, na_filter=False)\n",
    "\n",
    "ictihats_punctuation = my_csv['ictihats'].tolist()\n",
    "suc_array = my_csv['mahkemes'].tolist()\n"
   ]
  },
  {
   "cell_type": "markdown",
   "id": "c511863a-1224-49c8-ad2b-a47cad91a28d",
   "metadata": {},
   "source": [
    "## Split Dataset"
   ]
  },
  {
   "cell_type": "code",
   "execution_count": 5,
   "id": "a780d958-a973-486e-8e1f-c32564ee22ff",
   "metadata": {},
   "outputs": [],
   "source": [
    "# Split dataset by 80 - 20\n",
    "x_train, x_test, y_train, y_test = train_test_split(ictihats_punctuation, \n",
    "                                                    suc_array, \n",
    "                                                    test_size=0.20,random_state=36)"
   ]
  },
  {
   "cell_type": "markdown",
   "id": "5fcb6583-90bb-4d17-8ad7-54fbd86347a6",
   "metadata": {},
   "source": [
    "## Vectorize"
   ]
  },
  {
   "cell_type": "code",
   "execution_count": 6,
   "id": "b320805f-a5fb-4ff1-8d23-5fb0cb168dec",
   "metadata": {},
   "outputs": [],
   "source": [
    "# Use Tfidf vectorizer to transform train and test set\n",
    "tfidfvectorizer = TfidfVectorizer(analyzer='word')\n",
    "training_data = tfidfvectorizer.fit_transform(x_train)\n",
    "testing_data = tfidfvectorizer.transform(x_test)\n"
   ]
  },
  {
   "cell_type": "markdown",
   "id": "dd4e386f-f2d7-4705-9fd9-a75505cbffce",
   "metadata": {
    "tags": []
   },
   "source": [
    "## Support Vector Machines (specifically linear SVM)"
   ]
  },
  {
   "cell_type": "code",
   "execution_count": 7,
   "id": "8a69dc08-6bf8-49ed-998f-702fb4805b35",
   "metadata": {
    "tags": []
   },
   "outputs": [
    {
     "name": "stdout",
     "output_type": "stream",
     "text": [
      "                        precision    recall  f1-score   support\n",
      "\n",
      "   agir ceza mahkemesi       0.81      0.61      0.69       374\n",
      " asliye ceza mahkemesi       0.89      0.95      0.92      1979\n",
      "asliye hukuk mahkemesi       0.75      0.82      0.79       389\n",
      "bolge adliye mahkemesi       0.92      0.91      0.92       477\n",
      "          ceza dairesi       0.97      0.96      0.96       218\n",
      "       cocuk mahkemesi       0.53      0.59      0.56       182\n",
      "          is mahkemesi       0.91      0.94      0.92       266\n",
      "                 other       0.82      0.55      0.66       273\n",
      "     ticaret mahkemesi       0.73      0.48      0.58        75\n",
      "             undefined       0.92      0.93      0.92      1338\n",
      "\n",
      "              accuracy                           0.87      5571\n",
      "             macro avg       0.83      0.77      0.79      5571\n",
      "          weighted avg       0.87      0.87      0.87      5571\n",
      "\n"
     ]
    },
    {
     "data": {
      "image/png": "[encoded data removed]",
      "text/plain": [
       "<Figure size 432x288 with 2 Axes>"
      ]
     },
     "metadata": {
      "needs_background": "light"
     },
     "output_type": "display_data"
    }
   ],
   "source": [
    "svclassifier = SVC(kernel='linear')\n",
    "svclassifier.fit(training_data, y_train)\n",
    "y_pred = svclassifier.predict(testing_data)\n",
    "\n",
    "cf_matrix = confusion_matrix(y_test,y_pred)\n",
    "\n",
    "ax = sns.heatmap(cf_matrix, annot=True, fmt='', cmap='Blues')\n",
    "print(classification_report(y_test,y_pred))"
   ]
  },
  {
   "cell_type": "markdown",
   "id": "96c8458b-83e9-4373-8b27-cb610f2106d5",
   "metadata": {
    "tags": []
   },
   "source": [
    "## Multinomial Naive Bayes"
   ]
  },
  {
   "cell_type": "code",
   "execution_count": 8,
   "id": "c5c756d9-52e6-430d-be96-e8324245522a",
   "metadata": {
    "tags": []
   },
   "outputs": [
    {
     "name": "stderr",
     "output_type": "stream",
     "text": [
      "c:\\users\\anlsn\\appdata\\local\\programs\\python\\python39\\lib\\site-packages\\sklearn\\metrics\\_classification.py:1318: UndefinedMetricWarning: Precision and F-score are ill-defined and being set to 0.0 in labels with no predicted samples. Use `zero_division` parameter to control this behavior.\n",
      "  _warn_prf(average, modifier, msg_start, len(result))\n",
      "c:\\users\\anlsn\\appdata\\local\\programs\\python\\python39\\lib\\site-packages\\sklearn\\metrics\\_classification.py:1318: UndefinedMetricWarning: Precision and F-score are ill-defined and being set to 0.0 in labels with no predicted samples. Use `zero_division` parameter to control this behavior.\n",
      "  _warn_prf(average, modifier, msg_start, len(result))\n",
      "c:\\users\\anlsn\\appdata\\local\\programs\\python\\python39\\lib\\site-packages\\sklearn\\metrics\\_classification.py:1318: UndefinedMetricWarning: Precision and F-score are ill-defined and being set to 0.0 in labels with no predicted samples. Use `zero_division` parameter to control this behavior.\n",
      "  _warn_prf(average, modifier, msg_start, len(result))\n"
     ]
    },
    {
     "name": "stdout",
     "output_type": "stream",
     "text": [
      "                        precision    recall  f1-score   support\n",
      "\n",
      "   agir ceza mahkemesi       1.00      0.01      0.02       374\n",
      " asliye ceza mahkemesi       0.67      0.99      0.80      1979\n",
      "asliye hukuk mahkemesi       0.88      0.38      0.53       389\n",
      "bolge adliye mahkemesi       0.81      0.76      0.78       477\n",
      "          ceza dairesi       1.00      0.05      0.10       218\n",
      "       cocuk mahkemesi       0.00      0.00      0.00       182\n",
      "          is mahkemesi       0.94      0.25      0.40       266\n",
      "                 other       1.00      0.01      0.02       273\n",
      "     ticaret mahkemesi       0.00      0.00      0.00        75\n",
      "             undefined       0.53      0.77      0.63      1338\n",
      "\n",
      "              accuracy                           0.64      5571\n",
      "             macro avg       0.68      0.32      0.33      5571\n",
      "          weighted avg       0.70      0.64      0.56      5571\n",
      "\n"
     ]
    },
    {
     "data": {
      "image/png": "[encoded data removed]",
      "text/plain": [
       "<Figure size 432x288 with 2 Axes>"
      ]
     },
     "metadata": {
      "needs_background": "light"
     },
     "output_type": "display_data"
    }
   ],
   "source": [
    "naive_bayes = MultinomialNB()\n",
    "naive_bayes.fit(training_data, y_train)\n",
    "\n",
    "predictions = naive_bayes.predict(testing_data)\n",
    "\n",
    "cf_matrix = confusion_matrix(y_test,predictions)\n",
    "\n",
    "ax = sns.heatmap(cf_matrix, annot=True, fmt='', cmap='Blues')\n",
    "print(classification_report(y_test,predictions))\n"
   ]
  },
  {
   "cell_type": "markdown",
   "id": "5707aeff-312d-4036-8c95-f46f880a4c16",
   "metadata": {
    "tags": []
   },
   "source": [
    "## Logistic Regression"
   ]
  },
  {
   "cell_type": "code",
   "execution_count": 9,
   "id": "3637a68f-37f8-41b9-9c6e-3fc371d40ade",
   "metadata": {},
   "outputs": [
    {
     "name": "stderr",
     "output_type": "stream",
     "text": [
      "c:\\users\\anlsn\\appdata\\local\\programs\\python\\python39\\lib\\site-packages\\sklearn\\linear_model\\_logistic.py:814: ConvergenceWarning: lbfgs failed to converge (status=1):\n",
      "STOP: TOTAL NO. of ITERATIONS REACHED LIMIT.\n",
      "\n",
      "Increase the number of iterations (max_iter) or scale the data as shown in:\n",
      "    https://scikit-learn.org/stable/modules/preprocessing.html\n",
      "Please also refer to the documentation for alternative solver options:\n",
      "    https://scikit-learn.org/stable/modules/linear_model.html#logistic-regression\n",
      "  n_iter_i = _check_optimize_result(\n"
     ]
    },
    {
     "name": "stdout",
     "output_type": "stream",
     "text": [
      "                        precision    recall  f1-score   support\n",
      "\n",
      "   agir ceza mahkemesi       0.79      0.61      0.69       374\n",
      " asliye ceza mahkemesi       0.87      0.96      0.91      1979\n",
      "asliye hukuk mahkemesi       0.76      0.80      0.78       389\n",
      "bolge adliye mahkemesi       0.91      0.91      0.91       477\n",
      "          ceza dairesi       0.97      0.93      0.95       218\n",
      "       cocuk mahkemesi       0.56      0.48      0.52       182\n",
      "          is mahkemesi       0.92      0.90      0.91       266\n",
      "                 other       0.82      0.52      0.64       273\n",
      "     ticaret mahkemesi       0.76      0.43      0.55        75\n",
      "             undefined       0.89      0.92      0.90      1338\n",
      "\n",
      "              accuracy                           0.86      5571\n",
      "             macro avg       0.83      0.75      0.78      5571\n",
      "          weighted avg       0.86      0.86      0.86      5571\n",
      "\n"
     ]
    },
    {
     "data": {
      "image/png": "[encoded data removed]",
      "text/plain": [
       "<Figure size 432x288 with 2 Axes>"
      ]
     },
     "metadata": {
      "needs_background": "light"
     },
     "output_type": "display_data"
    }
   ],
   "source": [
    "log_regres_classifier = LogisticRegression(random_state = 36)\n",
    "log_regres_classifier.fit(training_data, y_train)\n",
    "y_pred = log_regres_classifier.predict(testing_data)\n",
    "cf_matrix = confusion_matrix(y_test, y_pred)\n",
    "\n",
    "ax = sns.heatmap(cf_matrix, annot=True, fmt='', cmap='Blues')\n",
    "print(classification_report(y_test,y_pred))\n"
   ]
  },
  {
   "cell_type": "code",
   "execution_count": null,
   "id": "c3d31b01-d80b-4e39-806f-8cc51b675ee1",
   "metadata": {},
   "outputs": [],
   "source": []
  },
  {
   "cell_type": "code",
   "execution_count": null,
   "id": "8c374e8f-b69b-4ea2-b0dd-69ccb1388741",
   "metadata": {},
   "outputs": [],
   "source": []
  }
 ],
 "metadata": {
  "kernelspec": {
   "display_name": "Python 3 (ipykernel)",
   "language": "python",
   "name": "python3"
  },
  "language_info": {
   "codemirror_mode": {
    "name": "ipython",
    "version": 3
   },
   "file_extension": ".py",
   "mimetype": "text/x-python",
   "name": "python",
   "nbconvert_exporter": "python",
   "pygments_lexer": "ipython3",
   "version": "3.9.5"
  }
 },
 "nbformat": 4,
 "nbformat_minor": 5
}
