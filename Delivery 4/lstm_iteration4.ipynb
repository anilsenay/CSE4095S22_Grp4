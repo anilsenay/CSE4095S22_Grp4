{
 "cells": [
  {
   "cell_type": "code",
   "execution_count": 1,
   "id": "d24c326e-512a-480c-8a78-edb6cf3e939b",
   "metadata": {},
   "outputs": [],
   "source": [
    "import pandas as pd\n",
    "import numpy as np\n",
    "import matplotlib.pyplot as plt\n",
    "import seaborn as sns\n",
    "import keras\n",
    "from sklearn.model_selection import train_test_split\n",
    "from sklearn.preprocessing import LabelEncoder\n",
    "from sklearn.metrics import classification_report\n",
    "from sklearn.metrics import accuracy_score\n",
    "from keras.models import Model\n",
    "from keras.layers import LSTM, Activation, Dense, Dropout, Input, Embedding\n",
    "from keras.optimizers import RMSprop\n",
    "from keras.preprocessing.text import Tokenizer\n",
    "from keras.preprocessing import sequence\n",
    "from keras.utils import to_categorical\n",
    "from keras.callbacks import EarlyStopping"
   ]
  },
  {
   "cell_type": "code",
   "execution_count": 2,
   "id": "c9f9e662-13b7-4c60-9af7-14a77ad1a1b1",
   "metadata": {},
   "outputs": [
    {
     "data": {
      "text/html": [
       "<div>\n",
       "<style scoped>\n",
       "    .dataframe tbody tr th:only-of-type {\n",
       "        vertical-align: middle;\n",
       "    }\n",
       "\n",
       "    .dataframe tbody tr th {\n",
       "        vertical-align: top;\n",
       "    }\n",
       "\n",
       "    .dataframe thead th {\n",
       "        text-align: right;\n",
       "    }\n",
       "</style>\n",
       "<table border=\"1\" class=\"dataframe\">\n",
       "  <thead>\n",
       "    <tr style=\"text-align: right;\">\n",
       "      <th></th>\n",
       "      <th>ictihats</th>\n",
       "      <th>mahkemes</th>\n",
       "      <th>labels</th>\n",
       "    </tr>\n",
       "  </thead>\n",
       "  <tbody>\n",
       "    <tr>\n",
       "      <th>0</th>\n",
       "      <td>basit yarala suç 5237 türk ceza kanun 862 863e...</td>\n",
       "      <td>undefined</td>\n",
       "      <td>0</td>\n",
       "    </tr>\n",
       "    <tr>\n",
       "      <th>1</th>\n",
       "      <td>taraf görüle dava mahkemeç kabul karar veril h...</td>\n",
       "      <td>asliye hukuk mahkemesi</td>\n",
       "      <td>1</td>\n",
       "    </tr>\n",
       "    <tr>\n",
       "      <th>2</th>\n",
       "      <td>5237 53 5271 288 289 294 299 302 any mah 08102...</td>\n",
       "      <td>undefined</td>\n",
       "      <td>0</td>\n",
       "    </tr>\n",
       "    <tr>\n",
       "      <th>3</th>\n",
       "      <td>bölge hukuk daires taraf görüle dav sonuç veri...</td>\n",
       "      <td>undefined</td>\n",
       "      <td>0</td>\n",
       "    </tr>\n",
       "    <tr>\n",
       "      <th>4</th>\n",
       "      <td>taraf görüle dava 311 357 770 parsel miras mal...</td>\n",
       "      <td>bolge adliye mahkemesi</td>\n",
       "      <td>2</td>\n",
       "    </tr>\n",
       "  </tbody>\n",
       "</table>\n",
       "</div>"
      ],
      "text/plain": [
       "                                            ictihats                mahkemes  \\\n",
       "0  basit yarala suç 5237 türk ceza kanun 862 863e...               undefined   \n",
       "1  taraf görüle dava mahkemeç kabul karar veril h...  asliye hukuk mahkemesi   \n",
       "2  5237 53 5271 288 289 294 299 302 any mah 08102...               undefined   \n",
       "3  bölge hukuk daires taraf görüle dav sonuç veri...               undefined   \n",
       "4  taraf görüle dava 311 357 770 parsel miras mal...  bolge adliye mahkemesi   \n",
       "\n",
       "   labels  \n",
       "0       0  \n",
       "1       1  \n",
       "2       0  \n",
       "3       0  \n",
       "4       2  "
      ]
     },
     "execution_count": 2,
     "metadata": {},
     "output_type": "execute_result"
    }
   ],
   "source": [
    "df = pd.read_csv('train_set_100.csv',encoding='utf-8')\n",
    "df['labels'] = pd.factorize(df.mahkemes)[0]\n",
    "df.head()"
   ]
  },
  {
   "cell_type": "code",
   "execution_count": 3,
   "id": "8eff0644-944e-4538-850a-e2fc6da2c254",
   "metadata": {},
   "outputs": [],
   "source": [
    "X = df.ictihats.astype(str)\n",
    "Y = df.labels\n",
    "le = LabelEncoder()\n",
    "Y = to_categorical(Y)\n"
   ]
  },
  {
   "cell_type": "code",
   "execution_count": 4,
   "id": "7eba2e7d-ac27-4052-a9fa-cba9ee3afa56",
   "metadata": {
    "tags": []
   },
   "outputs": [],
   "source": [
    "X_train,X_test,Y_train,Y_test = train_test_split(X,Y,test_size=0.2)"
   ]
  },
  {
   "cell_type": "code",
   "execution_count": 5,
   "id": "7287cb02-e36a-42b0-b5f2-d7a345b0eabe",
   "metadata": {
    "tags": []
   },
   "outputs": [],
   "source": [
    "max_words = 150000\n",
    "max_len = 300\n",
    "tok = Tokenizer(num_words=max_words)\n",
    "tok.fit_on_texts(X_train)\n",
    "sequences = tok.texts_to_sequences(X_train)\n",
    "sequences_matrix = keras.utils.pad_sequences(sequences,maxlen=max_len)"
   ]
  },
  {
   "cell_type": "code",
   "execution_count": 6,
   "id": "51db4edd-b055-43b6-bba5-e8587bae1697",
   "metadata": {},
   "outputs": [],
   "source": [
    "tok_test = Tokenizer(num_words=max_words)\n",
    "tok_test.fit_on_texts(X_test)\n",
    "sequences_test = tok.texts_to_sequences(X_test)\n",
    "sequences_matrix_test = keras.utils.pad_sequences(sequences_test,maxlen=max_len)"
   ]
  },
  {
   "cell_type": "code",
   "execution_count": 7,
   "id": "b87abd31-9dea-4a90-9e25-873966d8e75c",
   "metadata": {},
   "outputs": [],
   "source": [
    "def RNN():\n",
    "    inputs = Input(name='inputs',shape=[max_len])\n",
    "    layer = Embedding(max_words,50,input_length=max_len)(inputs)\n",
    "    layer = LSTM(64)(layer)\n",
    "    layer = Dense(256,name='FC1')(layer)\n",
    "    layer = Activation('relu')(layer)\n",
    "    layer = Dropout(0.5)(layer)\n",
    "    layer = Dense(10,name='out_layer')(layer)\n",
    "    layer = Activation('sigmoid')(layer)\n",
    "    model = Model(inputs=inputs,outputs=layer)\n",
    "    return model"
   ]
  },
  {
   "cell_type": "code",
   "execution_count": 8,
   "id": "4ad834fd-1939-4a4b-b529-cbe15e37489c",
   "metadata": {
    "tags": []
   },
   "outputs": [
    {
     "name": "stdout",
     "output_type": "stream",
     "text": [
      "Model: \"model\"\n",
      "_________________________________________________________________\n",
      " Layer (type)                Output Shape              Param #   \n",
      "=================================================================\n",
      " inputs (InputLayer)         [(None, 300)]             0         \n",
      "                                                                 \n",
      " embedding (Embedding)       (None, 300, 50)           7500000   \n",
      "                                                                 \n",
      " lstm (LSTM)                 (None, 64)                29440     \n",
      "                                                                 \n",
      " FC1 (Dense)                 (None, 256)               16640     \n",
      "                                                                 \n",
      " activation (Activation)     (None, 256)               0         \n",
      "                                                                 \n",
      " dropout (Dropout)           (None, 256)               0         \n",
      "                                                                 \n",
      " out_layer (Dense)           (None, 10)                2570      \n",
      "                                                                 \n",
      " activation_1 (Activation)   (None, 10)                0         \n",
      "                                                                 \n",
      "=================================================================\n",
      "Total params: 7,548,650\n",
      "Trainable params: 7,548,650\n",
      "Non-trainable params: 0\n",
      "_________________________________________________________________\n"
     ]
    }
   ],
   "source": [
    "model = RNN()\n",
    "model.summary()\n",
    "model.compile(loss='binary_crossentropy',optimizer=RMSprop(),metrics=['accuracy'])"
   ]
  },
  {
   "cell_type": "code",
   "execution_count": 9,
   "id": "d29aa1cf-593e-48c7-a3fe-f4eb1c08d509",
   "metadata": {
    "tags": []
   },
   "outputs": [
    {
     "name": "stdout",
     "output_type": "stream",
     "text": [
      "Epoch 1/30\n",
      "279/279 [==============================] - 63s 220ms/step - loss: 0.2464 - accuracy: 0.4768 - val_loss: 0.1812 - val_accuracy: 0.6109\n",
      "Epoch 2/30\n",
      "279/279 [==============================] - 64s 230ms/step - loss: 0.1600 - accuracy: 0.6782 - val_loss: 0.1334 - val_accuracy: 0.7444\n",
      "Epoch 3/30\n",
      "279/279 [==============================] - 66s 237ms/step - loss: 0.1135 - accuracy: 0.7837 - val_loss: 0.1141 - val_accuracy: 0.7933\n",
      "Epoch 4/30\n",
      "279/279 [==============================] - 66s 237ms/step - loss: 0.0913 - accuracy: 0.8288 - val_loss: 0.0983 - val_accuracy: 0.8205\n",
      "Epoch 5/30\n",
      "279/279 [==============================] - 66s 236ms/step - loss: 0.0793 - accuracy: 0.8547 - val_loss: 0.0974 - val_accuracy: 0.8326\n",
      "Epoch 6/30\n",
      "279/279 [==============================] - 66s 236ms/step - loss: 0.0699 - accuracy: 0.8749 - val_loss: 0.0871 - val_accuracy: 0.8402\n",
      "Epoch 7/30\n",
      "279/279 [==============================] - 66s 237ms/step - loss: 0.0630 - accuracy: 0.8912 - val_loss: 0.0822 - val_accuracy: 0.8494\n",
      "Epoch 8/30\n",
      "279/279 [==============================] - 66s 237ms/step - loss: 0.0571 - accuracy: 0.9020 - val_loss: 0.0923 - val_accuracy: 0.8395\n",
      "Epoch 9/30\n",
      "279/279 [==============================] - 66s 237ms/step - loss: 0.0524 - accuracy: 0.9125 - val_loss: 0.0876 - val_accuracy: 0.8517\n",
      "Epoch 10/30\n",
      "279/279 [==============================] - 67s 239ms/step - loss: 0.0472 - accuracy: 0.9192 - val_loss: 0.0817 - val_accuracy: 0.8683\n",
      "Epoch 11/30\n",
      "279/279 [==============================] - 67s 240ms/step - loss: 0.0444 - accuracy: 0.9239 - val_loss: 0.0828 - val_accuracy: 0.8613\n",
      "Epoch 12/30\n",
      "279/279 [==============================] - 67s 239ms/step - loss: 0.0419 - accuracy: 0.9329 - val_loss: 0.0799 - val_accuracy: 0.8750\n",
      "Epoch 13/30\n",
      "279/279 [==============================] - 67s 239ms/step - loss: 0.0391 - accuracy: 0.9374 - val_loss: 0.0807 - val_accuracy: 0.8732\n",
      "Epoch 14/30\n",
      "279/279 [==============================] - 67s 238ms/step - loss: 0.0380 - accuracy: 0.9387 - val_loss: 0.0852 - val_accuracy: 0.8658\n",
      "Epoch 15/30\n",
      "279/279 [==============================] - 67s 240ms/step - loss: 0.0350 - accuracy: 0.9416 - val_loss: 0.0959 - val_accuracy: 0.8683\n",
      "Epoch 16/30\n",
      "279/279 [==============================] - 67s 240ms/step - loss: 0.0327 - accuracy: 0.9471 - val_loss: 0.0886 - val_accuracy: 0.8671\n",
      "Epoch 17/30\n",
      "279/279 [==============================] - 67s 240ms/step - loss: 0.0319 - accuracy: 0.9477 - val_loss: 0.0975 - val_accuracy: 0.8568\n",
      "Epoch 18/30\n",
      "279/279 [==============================] - 68s 243ms/step - loss: 0.0305 - accuracy: 0.9514 - val_loss: 0.0917 - val_accuracy: 0.8570\n",
      "Epoch 19/30\n",
      "279/279 [==============================] - 67s 240ms/step - loss: 0.0295 - accuracy: 0.9513 - val_loss: 0.1134 - val_accuracy: 0.8418\n",
      "Epoch 20/30\n",
      "279/279 [==============================] - 67s 241ms/step - loss: 0.0282 - accuracy: 0.9544 - val_loss: 0.0993 - val_accuracy: 0.8662\n",
      "Epoch 21/30\n",
      "279/279 [==============================] - 67s 240ms/step - loss: 0.0268 - accuracy: 0.9552 - val_loss: 0.0963 - val_accuracy: 0.8667\n",
      "Epoch 22/30\n",
      "279/279 [==============================] - 66s 238ms/step - loss: 0.0255 - accuracy: 0.9594 - val_loss: 0.0931 - val_accuracy: 0.8622\n",
      "Epoch 23/30\n",
      "279/279 [==============================] - 66s 237ms/step - loss: 0.0241 - accuracy: 0.9616 - val_loss: 0.1161 - val_accuracy: 0.8548\n",
      "Epoch 24/30\n",
      "279/279 [==============================] - 67s 241ms/step - loss: 0.0248 - accuracy: 0.9615 - val_loss: 0.0974 - val_accuracy: 0.8737\n",
      "Epoch 25/30\n",
      "279/279 [==============================] - 65s 235ms/step - loss: 0.0232 - accuracy: 0.9636 - val_loss: 0.1067 - val_accuracy: 0.8579\n",
      "Epoch 26/30\n",
      "279/279 [==============================] - 65s 234ms/step - loss: 0.0218 - accuracy: 0.9645 - val_loss: 0.1018 - val_accuracy: 0.8638\n",
      "Epoch 27/30\n",
      "279/279 [==============================] - 65s 235ms/step - loss: 0.0211 - accuracy: 0.9663 - val_loss: 0.1127 - val_accuracy: 0.8665\n",
      "Epoch 28/30\n",
      "279/279 [==============================] - 66s 236ms/step - loss: 0.0209 - accuracy: 0.9676 - val_loss: 0.1168 - val_accuracy: 0.8615\n",
      "Epoch 29/30\n",
      "279/279 [==============================] - 66s 235ms/step - loss: 0.0192 - accuracy: 0.9685 - val_loss: 0.1343 - val_accuracy: 0.8434\n",
      "Epoch 30/30\n",
      "279/279 [==============================] - 66s 235ms/step - loss: 0.0199 - accuracy: 0.9698 - val_loss: 0.1202 - val_accuracy: 0.8698\n"
     ]
    },
    {
     "data": {
      "text/plain": [
       "<keras.callbacks.History at 0x19ccfa49fa0>"
      ]
     },
     "execution_count": 9,
     "metadata": {},
     "output_type": "execute_result"
    }
   ],
   "source": [
    "model.fit(sequences_matrix,Y_train,batch_size=64,epochs=30,\n",
    "          validation_split=0.2)"
   ]
  },
  {
   "cell_type": "code",
   "execution_count": 10,
   "id": "1d315d09-1691-4189-972b-8d16ca1b8a5a",
   "metadata": {},
   "outputs": [
    {
     "name": "stdout",
     "output_type": "stream",
     "text": [
      "175/175 [==============================] - 8s 44ms/step\n"
     ]
    }
   ],
   "source": [
    "y_pred = model.predict(sequences_matrix_test)"
   ]
  },
  {
   "cell_type": "code",
   "execution_count": 11,
   "id": "c5c17e61-97c7-44b0-8c3b-565c80298bc7",
   "metadata": {},
   "outputs": [],
   "source": [
    "def convertPredicts(y_pred):\n",
    "    new_y_pred = []\n",
    "    for i in range(len(y_pred)):\n",
    "        pred_row = y_pred[i]\n",
    "        #print(pred_row)\n",
    "        max_index = np.argmax(pred_row, axis=0)\n",
    "        new_row = [0] * 10\n",
    "        new_row[max_index] = 1\n",
    "        new_y_pred.append(new_row)\n",
    "\n",
    "    return new_y_pred\n",
    "\n",
    "y_pred = convertPredicts(y_pred) "
   ]
  },
  {
   "cell_type": "code",
   "execution_count": 12,
   "id": "6445da7b-11d5-48ee-867a-f0d29a80bebc",
   "metadata": {},
   "outputs": [
    {
     "name": "stdout",
     "output_type": "stream",
     "text": [
      "                        precision    recall  f1-score   support\n",
      "\n",
      "             undefined       0.97      0.98      0.98      1304\n",
      "asliye hukuk mahkemesi       0.78      0.77      0.77       363\n",
      "bolge adliye mahkemesi       0.93      0.93      0.93       497\n",
      "     ticaret mahkemesi       0.64      0.40      0.49        63\n",
      "                 other       0.68      0.60      0.64       280\n",
      "          is mahkemesi       0.86      0.95      0.90       265\n",
      " asliye ceza mahkemesi       0.89      0.94      0.92      2046\n",
      "          ceza dairesi       0.91      0.94      0.93       200\n",
      "       cocuk mahkemesi       0.62      0.48      0.54       174\n",
      "   agir ceza mahkemesi       0.75      0.64      0.69       379\n",
      "\n",
      "             micro avg       0.88      0.88      0.88      5571\n",
      "             macro avg       0.80      0.76      0.78      5571\n",
      "          weighted avg       0.87      0.88      0.88      5571\n",
      "           samples avg       0.88      0.88      0.88      5571\n",
      "\n"
     ]
    }
   ],
   "source": [
    "target_names = df.mahkemes.unique()\n",
    "target_names\n",
    "print(classification_report(Y_test, y_pred, target_names=target_names))"
   ]
  },
  {
   "cell_type": "code",
   "execution_count": 13,
   "id": "5e23faec-f478-49ff-a6e1-dae173eaf52f",
   "metadata": {},
   "outputs": [
    {
     "name": "stdout",
     "output_type": "stream",
     "text": [
      "[0, 5, 6, 6, 0, 6, 1, 9, 1, 4, 2, 6, 0, 0, 1, 6, 9, 6, 0, 9]\n",
      "[0, 5, 6, 6, 0, 6, 1, 9, 1, 3, 2, 6, 0, 0, 1, 4, 6, 6, 0, 9]\n"
     ]
    }
   ],
   "source": [
    "def transform1d(test, pred):\n",
    "    pred_new = []\n",
    "    for i in range(0, len(pred)):\n",
    "        for j in range(0,10):\n",
    "            if(pred[i][j] == 1 or pred[i][j] == True):\n",
    "                pred_new.append(j) \n",
    "\n",
    "    test_new = []\n",
    "    for i in range(0, len(test)):\n",
    "        for j in range(0,10):\n",
    "            if(test[i][j] == 1):\n",
    "                test_new.append(j) \n",
    "    return [test_new, pred_new]\n",
    "\n",
    "[test_new, pred_new] = transform1d(Y_test, y_pred)\n",
    "print(pred_new[:20])\n",
    "print(test_new[:20])\n"
   ]
  },
  {
   "cell_type": "code",
   "execution_count": 14,
   "id": "0e2effbe-23ad-4b20-af0e-f61dd64b5773",
   "metadata": {},
   "outputs": [
    {
     "name": "stdout",
     "output_type": "stream",
     "text": [
      "Accuracy: 0.8799138395261173\n"
     ]
    }
   ],
   "source": [
    "print(\"Accuracy:\", accuracy_score(test_new, pred_new))"
   ]
  },
  {
   "cell_type": "code",
   "execution_count": 15,
   "id": "ab13d728-80a7-4c0e-91f6-cf83e1d15934",
   "metadata": {},
   "outputs": [
    {
     "data": {
      "image/png": "[encoded data removed]",
      "text/plain": [
       "<Figure size 432x288 with 1 Axes>"
      ]
     },
     "metadata": {
      "needs_background": "light"
     },
     "output_type": "display_data"
    }
   ],
   "source": [
    "plt.ylim(0,11)\n",
    "plt.bar(range(len(test_new)), test_new, alpha = 0.5)\n",
    "plt.bar(range(len(pred_new)), pred_new)\n",
    "plt.xlabel(\"train\")\n",
    "plt.ylabel(\"pred\")\n",
    "\n",
    "plt.show()"
   ]
  },
  {
   "cell_type": "code",
   "execution_count": 16,
   "id": "c103ae50-1f95-4650-b7de-1ed84f74a6ce",
   "metadata": {},
   "outputs": [
    {
     "name": "stdout",
     "output_type": "stream",
     "text": [
      "[[1280    1    7    1    5    2    4    2    0    2]\n",
      " [   4  279   12    9   37    9    1    3    8    1]\n",
      " [   9    9  461    3   11    3    0    1    0    0]\n",
      " [   4   23    1   25    6    1    0    2    0    1]\n",
      " [  13   30   12    0  168   13   39    2    2    1]\n",
      " [   5    4    1    0    2  251    1    1    0    0]\n",
      " [   2    1    0    0   12    8 1922    2   35   64]\n",
      " [   2    0    0    0    2    1    1  189    0    5]\n",
      " [   0   10    4    1    0    2   65    0   83    9]\n",
      " [   2    1    0    0    3    1  118    5    5  244]]\n"
     ]
    },
    {
     "data": {
      "image/png": "[encoded data removed]",
      "text/plain": [
       "<Figure size 432x288 with 2 Axes>"
      ]
     },
     "metadata": {
      "needs_background": "light"
     },
     "output_type": "display_data"
    }
   ],
   "source": [
    "from sklearn.metrics import confusion_matrix\n",
    "import seaborn as sns\n",
    "import matplotlib.pyplot as plt\n",
    "\n",
    "cf_matrix = confusion_matrix(test_new, pred_new)\n",
    "print(cf_matrix)\n",
    "\n",
    "ax = sns.heatmap(cf_matrix, annot=True, fmt='', cmap='Blues')\n",
    "\n"
   ]
  },
  {
   "cell_type": "code",
   "execution_count": null,
   "id": "f408c413-3963-47ea-845c-da05e16f75cb",
   "metadata": {},
   "outputs": [],
   "source": []
  }
 ],
 "metadata": {
  "kernelspec": {
   "display_name": "Python 3 (ipykernel)",
   "language": "python",
   "name": "python3"
  },
  "language_info": {
   "codemirror_mode": {
    "name": "ipython",
    "version": 3
   },
   "file_extension": ".py",
   "mimetype": "text/x-python",
   "name": "python",
   "nbconvert_exporter": "python",
   "pygments_lexer": "ipython3",
   "version": "3.9.5"
  }
 },
 "nbformat": 4,
 "nbformat_minor": 5
}
